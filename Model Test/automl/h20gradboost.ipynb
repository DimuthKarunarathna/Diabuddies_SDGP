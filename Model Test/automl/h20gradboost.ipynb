{
 "cells": [
  {
   "cell_type": "code",
   "execution_count": 18,
   "metadata": {},
   "outputs": [
    {
     "name": "stdout",
     "output_type": "stream",
     "text": [
      "Checking whether there is an H2O instance running at http://localhost:54321. connected.\n"
     ]
    },
    {
     "data": {
      "text/html": [
       "\n",
       "<style>\n",
       "\n",
       "#h2o-table-8.h2o-container {\n",
       "  overflow-x: auto;\n",
       "}\n",
       "#h2o-table-8 .h2o-table {\n",
       "  /* width: 100%; */\n",
       "  margin-top: 1em;\n",
       "  margin-bottom: 1em;\n",
       "}\n",
       "#h2o-table-8 .h2o-table caption {\n",
       "  white-space: nowrap;\n",
       "  caption-side: top;\n",
       "  text-align: left;\n",
       "  /* margin-left: 1em; */\n",
       "  margin: 0;\n",
       "  font-size: larger;\n",
       "}\n",
       "#h2o-table-8 .h2o-table thead {\n",
       "  white-space: nowrap; \n",
       "  position: sticky;\n",
       "  top: 0;\n",
       "  box-shadow: 0 -1px inset;\n",
       "}\n",
       "#h2o-table-8 .h2o-table tbody {\n",
       "  overflow: auto;\n",
       "}\n",
       "#h2o-table-8 .h2o-table th,\n",
       "#h2o-table-8 .h2o-table td {\n",
       "  text-align: right;\n",
       "  /* border: 1px solid; */\n",
       "}\n",
       "#h2o-table-8 .h2o-table tr:nth-child(even) {\n",
       "  /* background: #F5F5F5 */\n",
       "}\n",
       "\n",
       "</style>      \n",
       "<div id=\"h2o-table-8\" class=\"h2o-container\">\n",
       "  <table class=\"h2o-table\">\n",
       "    <caption></caption>\n",
       "    <thead></thead>\n",
       "    <tbody><tr><td>H2O_cluster_uptime:</td>\n",
       "<td>22 hours 15 mins</td></tr>\n",
       "<tr><td>H2O_cluster_timezone:</td>\n",
       "<td>Asia/Colombo</td></tr>\n",
       "<tr><td>H2O_data_parsing_timezone:</td>\n",
       "<td>UTC</td></tr>\n",
       "<tr><td>H2O_cluster_version:</td>\n",
       "<td>3.40.0.2</td></tr>\n",
       "<tr><td>H2O_cluster_version_age:</td>\n",
       "<td>25 days</td></tr>\n",
       "<tr><td>H2O_cluster_name:</td>\n",
       "<td>H2O_from_python_home_67pta2</td></tr>\n",
       "<tr><td>H2O_cluster_total_nodes:</td>\n",
       "<td>1</td></tr>\n",
       "<tr><td>H2O_cluster_free_memory:</td>\n",
       "<td>1.674 Gb</td></tr>\n",
       "<tr><td>H2O_cluster_total_cores:</td>\n",
       "<td>8</td></tr>\n",
       "<tr><td>H2O_cluster_allowed_cores:</td>\n",
       "<td>8</td></tr>\n",
       "<tr><td>H2O_cluster_status:</td>\n",
       "<td>locked, healthy</td></tr>\n",
       "<tr><td>H2O_connection_url:</td>\n",
       "<td>http://localhost:54321</td></tr>\n",
       "<tr><td>H2O_connection_proxy:</td>\n",
       "<td>{\"http\": null, \"https\": null}</td></tr>\n",
       "<tr><td>H2O_internal_security:</td>\n",
       "<td>False</td></tr>\n",
       "<tr><td>Python_version:</td>\n",
       "<td>3.10.10 final</td></tr></tbody>\n",
       "  </table>\n",
       "</div>\n"
      ],
      "text/plain": [
       "--------------------------  -----------------------------\n",
       "H2O_cluster_uptime:         22 hours 15 mins\n",
       "H2O_cluster_timezone:       Asia/Colombo\n",
       "H2O_data_parsing_timezone:  UTC\n",
       "H2O_cluster_version:        3.40.0.2\n",
       "H2O_cluster_version_age:    25 days\n",
       "H2O_cluster_name:           H2O_from_python_home_67pta2\n",
       "H2O_cluster_total_nodes:    1\n",
       "H2O_cluster_free_memory:    1.674 Gb\n",
       "H2O_cluster_total_cores:    8\n",
       "H2O_cluster_allowed_cores:  8\n",
       "H2O_cluster_status:         locked, healthy\n",
       "H2O_connection_url:         http://localhost:54321\n",
       "H2O_connection_proxy:       {\"http\": null, \"https\": null}\n",
       "H2O_internal_security:      False\n",
       "Python_version:             3.10.10 final\n",
       "--------------------------  -----------------------------"
      ]
     },
     "metadata": {},
     "output_type": "display_data"
    }
   ],
   "source": [
    "import h2o as h\n",
    "import pandas as pd\n",
    "h.init()\n",
    "from h2o.estimators import H2OGradientBoostingEstimator\n",
    "import treelite\n",
    "import treelite.frontend\n",
    "import numpy as np\n",
    "\n",
    "\n"
   ]
  },
  {
   "cell_type": "code",
   "execution_count": 8,
   "metadata": {},
   "outputs": [],
   "source": [
    "df = pd.read_excel('alldata.xlsx')\n",
    "df.to_csv('alldata.csv', index=False)"
   ]
  },
  {
   "cell_type": "code",
   "execution_count": 19,
   "metadata": {},
   "outputs": [
    {
     "name": "stdout",
     "output_type": "stream",
     "text": [
      "Parse progress: |████████████████████████████████████████████████████████████████| (done) 100%\n"
     ]
    }
   ],
   "source": [
    "data = h.import_file(\"alldata.csv\")\n",
    "\n"
   ]
  },
  {
   "cell_type": "code",
   "execution_count": 20,
   "metadata": {},
   "outputs": [
    {
     "name": "stdout",
     "output_type": "stream",
     "text": [
      "gbm Model Build progress: |██████████████████████████████████████████████████████| (done) 100%\n",
      "Model Details\n",
      "=============\n",
      "H2OGradientBoostingEstimator : Gradient Boosting Machine\n",
      "Model Key: GBM_model_python_1680506826855_5\n",
      "\n",
      "\n",
      "Model Summary: \n",
      "    number_of_trees    number_of_internal_trees    model_size_in_bytes    min_depth    max_depth    mean_depth    min_leaves    max_leaves    mean_leaves\n",
      "--  -----------------  --------------------------  ---------------------  -----------  -----------  ------------  ------------  ------------  -------------\n",
      "    100                100                         14809                  3            3            3             4             8             7.14\n",
      "\n",
      "ModelMetricsRegression: gbm\n",
      "** Reported on train data. **\n",
      "\n",
      "MSE: 739.5846897934606\n",
      "RMSE: 27.195306392711604\n",
      "MAE: 21.24741656064987\n",
      "RMSLE: 0.17963596756039887\n",
      "Mean Residual Deviance: 739.5846897934606\n",
      "\n",
      "ModelMetricsRegression: gbm\n",
      "** Reported on validation data. **\n",
      "\n",
      "MSE: 1783.048359421686\n",
      "RMSE: 42.22615728931164\n",
      "MAE: 31.75921171748368\n",
      "RMSLE: 0.24339431234409284\n",
      "Mean Residual Deviance: 1783.048359421686\n",
      "\n",
      "Scoring History: \n",
      "     timestamp            duration    number_of_trees    training_rmse       training_mae        training_deviance    validation_rmse     validation_mae      validation_deviance\n",
      "---  -------------------  ----------  -----------------  ------------------  ------------------  -------------------  ------------------  ------------------  ---------------------\n",
      "     2023-04-04 11:12:56  0.010 sec   0.0                56.24907452925505   43.23060551054765   3163.958385397689    57.27198234653368   44.54017308490682   3280.079961901666\n",
      "     2023-04-04 11:12:56  0.032 sec   1.0                53.72410688489461   41.47500846147537   2886.2796605795806   55.66871850322984   43.40643752107711   3099.006219791844\n",
      "     2023-04-04 11:12:56  0.043 sec   2.0                51.58260763552326   39.97212189912796   2660.7654104803423   54.355981078363165  42.500162454789326  2954.5726789913747\n",
      "     2023-04-04 11:12:56  0.056 sec   3.0                49.75959229354467   38.67956977128983   2476.0170252197904   53.4442864369734    41.899695894300045  2856.2917527572586\n",
      "     2023-04-04 11:12:56  0.069 sec   4.0                48.034574077487555  37.510970165729525  2307.3203068056396   52.089833655962316  40.92297713552669   2713.3507703058244\n",
      "     2023-04-04 11:12:56  0.084 sec   5.0                46.496898328167724  36.43521599054336   2161.961554139966    50.97997625659852   40.05171807977614   2598.9579791233487\n",
      "     2023-04-04 11:12:56  0.096 sec   6.0                45.18374021317101   35.509701511859895  2041.5703796513271   50.260869613223306  39.48763004453329   2526.155014277434\n",
      "     2023-04-04 11:12:56  0.110 sec   7.0                44.08102178182572   34.7348908162117    1943.1364813297935   49.48466336357442   38.736954955227425  2448.7319082062845\n",
      "     2023-04-04 11:12:56  0.167 sec   8.0                43.1261136914406    34.047166073322295  1859.8616821270607   48.910815552521846  38.3537395704193    2392.2678780128126\n",
      "     2023-04-04 11:12:56  0.244 sec   9.0                42.228767663840436  33.417424414157864  1783.2688184066158   48.22074974417089   37.81597624489092   2325.240705889957\n",
      "---  ---                  ---         ---                ---                 ---                 ---                  ---                 ---                 ---\n",
      "     2023-04-04 11:12:57  1.154 sec   91.0               27.784694338824604  21.750836536884307  771.9892395019119    42.27780100630405   31.871873285836315  1787.412457928644\n",
      "     2023-04-04 11:12:57  1.164 sec   92.0               27.7018633892606    21.673579461574555  767.3932352372566    42.20183587209852   31.795242063863228  1780.9949509755418\n",
      "     2023-04-04 11:12:57  1.200 sec   93.0               27.64981085909573   21.637987282276153  764.5120405437681    42.21574247540503   31.803139844395528  1782.1689127497161\n",
      "     2023-04-04 11:12:57  1.213 sec   94.0               27.57336288485719   21.579156334400178  760.2903407800201    42.27574750289634   31.82579158821597   1787.2388269286457\n",
      "     2023-04-04 11:12:57  1.222 sec   95.0               27.513668993038063  21.518919446468352  757.0019814584641    42.30893411465753   31.800851365064048  1790.045905918432\n",
      "     2023-04-04 11:12:57  1.230 sec   96.0               27.45941340254969   21.481220424175262  754.0193844121254    42.21339460461593   31.757654744785004  1781.9706840450174\n",
      "     2023-04-04 11:12:57  1.238 sec   97.0               27.391019339134527  21.42747395515442   750.2679404368416    42.224683415667286  31.814949868708503  1782.923889553328\n",
      "     2023-04-04 11:12:57  1.249 sec   98.0               27.337999094626973  21.396069979667665  747.3661944978252    42.233779779072464  31.811534920763442  1783.6921544271902\n",
      "     2023-04-04 11:12:57  1.256 sec   99.0               27.24591102251085   21.295303964614867  742.3396674465782    42.1970617265346    31.756734753448274  1780.5920183529713\n",
      "     2023-04-04 11:12:57  1.265 sec   100.0              27.195306392711604  21.24741656064987   739.5846897934606    42.22615728931164   31.75921171748368   1783.048359421686\n",
      "[101 rows x 10 columns]\n",
      "\n",
      "\n",
      "Variable Importances: \n",
      "variable                      relative_importance    scaled_importance    percentage\n",
      "----------------------------  ---------------------  -------------------  ------------\n",
      "CGM_Data                      5.0873e+06             1                    0.506787\n",
      "Weight (kg)                   794994                 0.15627              0.0791957\n",
      "BMI (kg/m2)                   776252                 0.152586             0.0773287\n",
      "Hour                          606222                 0.119164             0.0603907\n",
      "Age (years)                   526169                 0.103428             0.0524159\n",
      "protein                       424041                 0.083353             0.0422422\n",
      "calories                      372088                 0.0731406            0.0370667\n",
      "carbs                         362697                 0.0712946            0.0361311\n",
      "Gender (Female=1, Male=2)     342106                 0.0672471            0.0340799\n",
      "fiber                         325102                 0.0639047            0.032386\n",
      "fat                           238006                 0.0467844            0.0237097\n",
      "Duration of diabetes (years)  183367                 0.0360442            0.0182667\n"
     ]
    }
   ],
   "source": [
    "train, valid = data.split_frame(ratios=[0.8], seed=123)\n",
    "predictors = ['CGM_Data', 'carbs', 'calories', 'fiber', 'fat', 'protein','Gender (Female=1, Male=2)','Age (years)','BMI (kg/m2)','Weight (kg)','Hour','Duration of diabetes (years)']\n",
    "response = 'avgCGM'\n",
    "\n",
    "# Train GBM model\n",
    "gbm = H2OGradientBoostingEstimator(ntrees=100, max_depth=3)\n",
    "gbm.train(x=predictors, y=response, training_frame=train, validation_frame=valid)\n",
    "\n",
    "# View model performance\n",
    "print(gbm)"
   ]
  },
  {
   "cell_type": "code",
   "execution_count": 11,
   "metadata": {},
   "outputs": [],
   "source": [
    "model_path = gbm.download_mojo(path=\"my_model.mojo\")"
   ]
  },
  {
   "attachments": {},
   "cell_type": "markdown",
   "metadata": {},
   "source": [
    "## Converting to tflite"
   ]
  },
  {
   "cell_type": "code",
   "execution_count": 12,
   "metadata": {},
   "outputs": [
    {
     "name": "stdout",
     "output_type": "stream",
     "text": [
      "generic Model Build progress: |██████████████████████████████████████████████████| (done) 100%\n"
     ]
    }
   ],
   "source": [
    "h2o_model = h.import_mojo(model_path)"
   ]
  },
  {
   "cell_type": "code",
   "execution_count": 16,
   "metadata": {},
   "outputs": [
    {
     "name": "stdout",
     "output_type": "stream",
     "text": [
      "generic Model Build progress: |██████████████████████████████████████████████████| (done) 100%\n"
     ]
    },
    {
     "ename": "AttributeError",
     "evalue": "module 'treelite_runtime' has no attribute 'Model'",
     "output_type": "error",
     "traceback": [
      "\u001b[0;31m---------------------------------------------------------------------------\u001b[0m",
      "\u001b[0;31mAttributeError\u001b[0m                            Traceback (most recent call last)",
      "Cell \u001b[0;32mIn[16], line 4\u001b[0m\n\u001b[1;32m      2\u001b[0m predictor \u001b[39m=\u001b[39m h2o_model\u001b[39m.\u001b[39mpredict\n\u001b[1;32m      3\u001b[0m input_shape \u001b[39m=\u001b[39m [(\u001b[39mNone\u001b[39;00m, \u001b[39m3\u001b[39m)]\n\u001b[0;32m----> 4\u001b[0m model \u001b[39m=\u001b[39m treelite_runtime\u001b[39m.\u001b[39;49mModel\u001b[39m.\u001b[39mfrom_xgboost(predictor, input_shape\u001b[39m=\u001b[39minput_shape)\n",
      "\u001b[0;31mAttributeError\u001b[0m: module 'treelite_runtime' has no attribute 'Model'"
     ]
    }
   ],
   "source": [
    "h2o_model = h.import_mojo(model_path)\n",
    "predictor = h2o_model.predict\n",
    "input_shape = [(None, 3)]\n",
    "model = treelite_runtime.Model.from_xgboost(predictor, input_shape=input_shape)\n"
   ]
  },
  {
   "cell_type": "code",
   "execution_count": null,
   "metadata": {},
   "outputs": [],
   "source": [
    "compiler = treelite.compiler.Compiler(backend=\"tflite\")\n",
    "tflite_model = compiler.compile(model)"
   ]
  },
  {
   "cell_type": "code",
   "execution_count": null,
   "metadata": {},
   "outputs": [],
   "source": [
    "with open(\"my_model.tflite\", \"wb\") as f:\n",
    "    f.write(tflite_model)"
   ]
  },
  {
   "cell_type": "code",
   "execution_count": 6,
   "metadata": {},
   "outputs": [],
   "source": [
    "data = pd.read_csv('alldata.csv')\n",
    "input_shape = [(None, data.shape[1])]\n"
   ]
  },
  {
   "cell_type": "code",
   "execution_count": null,
   "metadata": {},
   "outputs": [],
   "source": [
    "model_path = h.save_model(model=gbm, path=\"my_model\", force=True)\n"
   ]
  },
  {
   "cell_type": "code",
   "execution_count": null,
   "metadata": {},
   "outputs": [],
   "source": [
    "h2o_model = h.import_mojo(model_path)\n",
    "predictor = h2o_model.predict\n",
    "input_shape = [(None, 3)]\n",
    "model = treelite.frontend.from_h2o(predictor, input_shape=input_shape)\n"
   ]
  },
  {
   "cell_type": "code",
   "execution_count": null,
   "metadata": {},
   "outputs": [],
   "source": [
    "compiler = treelite.compiler.Compiler(backend=\"tflite\")\n",
    "model = compiler.compile(model)\n",
    "with open(\"my_model.tflite\", \"wb\") as f:\n",
    "    f.write(model)"
   ]
  }
 ],
 "metadata": {
  "kernelspec": {
   "display_name": "Python 3",
   "language": "python",
   "name": "python3"
  },
  "language_info": {
   "codemirror_mode": {
    "name": "ipython",
    "version": 3
   },
   "file_extension": ".py",
   "mimetype": "text/x-python",
   "name": "python",
   "nbconvert_exporter": "python",
   "pygments_lexer": "ipython3",
   "version": "3.10.10"
  },
  "orig_nbformat": 4
 },
 "nbformat": 4,
 "nbformat_minor": 2
}
