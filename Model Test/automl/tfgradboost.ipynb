{
 "cells": [
  {
   "cell_type": "code",
   "execution_count": 4,
   "metadata": {},
   "outputs": [],
   "source": [
    "import tensorflow as tf\n",
    "import pandas as pd\n",
    "from sklearn.model_selection import train_test_split\n"
   ]
  },
  {
   "cell_type": "code",
   "execution_count": 9,
   "metadata": {},
   "outputs": [],
   "source": [
    "df = pd.read_csv('alldata.csv')"
   ]
  },
  {
   "cell_type": "code",
   "execution_count": 10,
   "metadata": {},
   "outputs": [],
   "source": [
    "selected_columns = ['CGM_Data', 'carbs', 'calories', 'fiber', 'fat', 'protein', \n",
    "                    'Gender (Female=1, Male=2)', 'Age (years)', 'BMI (kg/m2)', \n",
    "                    'Weight (kg)', 'Hour', 'Duration of diabetes (years)','avgCGM']\n",
    "df_selected = df[selected_columns]"
   ]
  },
  {
   "cell_type": "code",
   "execution_count": 12,
   "metadata": {},
   "outputs": [],
   "source": [
    "train_df, test_df = train_test_split(df_selected, test_size=0.2)\n"
   ]
  },
  {
   "cell_type": "code",
   "execution_count": 13,
   "metadata": {},
   "outputs": [],
   "source": [
    "train_labels = train_df.pop('avgCGM')\n",
    "test_labels = test_df.pop('avgCGM')\n",
    "train_features = dict(train_df)\n",
    "test_features = dict(test_df)"
   ]
  },
  {
   "cell_type": "code",
   "execution_count": 14,
   "metadata": {},
   "outputs": [],
   "source": [
    "def input_fn(features, labels, training=True, batch_size=32):\n",
    "    selected_columns = ['CGM_Data', 'carbs', 'calories', 'fiber', 'fat', 'protein', \n",
    "                        'Gender (Female=1, Male=2)', 'Age (years)', 'BMI (kg/m2)', \n",
    "                        'Weight (kg)', 'Hour', 'Duration of diabetes (years)']\n",
    "    selected_features = {k: features[k] for k in selected_columns}\n",
    "    dataset = tf.data.Dataset.from_tensor_slices((selected_features, labels))\n",
    "    if training:\n",
    "        dataset = dataset.shuffle(1000).repeat()\n",
    "    return dataset.batch(batch_size)"
   ]
  },
  {
   "cell_type": "code",
   "execution_count": 15,
   "metadata": {},
   "outputs": [],
   "source": [
    "feature_columns = []\n",
    "for feature_name in selected_columns[:-1]:  # exclude the label column\n",
    "    if df[feature_name].dtype == object:\n",
    "        vocabulary = df[feature_name].unique()\n",
    "        feature_columns.append(tf.feature_column.categorical_column_with_vocabulary_list(feature_name, vocabulary))\n",
    "    else:\n",
    "        feature_columns.append(tf.feature_column.numeric_column(feature_name))\n"
   ]
  },
  {
   "cell_type": "code",
   "execution_count": 16,
   "metadata": {},
   "outputs": [
    {
     "ename": "AttributeError",
     "evalue": "module 'tensorflow_estimator.python.estimator.api._v2.estimator' has no attribute 'BoostedTreesRegressor'",
     "output_type": "error",
     "traceback": [
      "\u001b[0;31m---------------------------------------------------------------------------\u001b[0m",
      "\u001b[0;31mAttributeError\u001b[0m                            Traceback (most recent call last)",
      "Cell \u001b[0;32mIn[16], line 1\u001b[0m\n\u001b[0;32m----> 1\u001b[0m estimator \u001b[39m=\u001b[39m tf\u001b[39m.\u001b[39;49mestimator\u001b[39m.\u001b[39;49mBoostedTreesRegressor(feature_columns\u001b[39m=\u001b[39mfeature_columns, n_batches_per_layer\u001b[39m=\u001b[39m\u001b[39m1\u001b[39m)\n",
      "File \u001b[0;32m/Library/Frameworks/Python.framework/Versions/3.10/lib/python3.10/site-packages/tensorflow/python/util/lazy_loader.py:59\u001b[0m, in \u001b[0;36mLazyLoader.__getattr__\u001b[0;34m(self, item)\u001b[0m\n\u001b[1;32m     57\u001b[0m \u001b[39mdef\u001b[39;00m \u001b[39m__getattr__\u001b[39m(\u001b[39mself\u001b[39m, item):\n\u001b[1;32m     58\u001b[0m   module \u001b[39m=\u001b[39m \u001b[39mself\u001b[39m\u001b[39m.\u001b[39m_load()\n\u001b[0;32m---> 59\u001b[0m   \u001b[39mreturn\u001b[39;00m \u001b[39mgetattr\u001b[39;49m(module, item)\n",
      "\u001b[0;31mAttributeError\u001b[0m: module 'tensorflow_estimator.python.estimator.api._v2.estimator' has no attribute 'BoostedTreesRegressor'"
     ]
    }
   ],
   "source": [
    "estimator = tf.estimator.BoostedTreesRegressor(feature_columns=feature_columns, n_batches_per_layer=1)"
   ]
  },
  {
   "cell_type": "code",
   "execution_count": null,
   "metadata": {},
   "outputs": [],
   "source": [
    "estimator.train(input_fn=lambda: input_fn(train_features, train_labels, True, 32), steps=1000)"
   ]
  },
  {
   "cell_type": "code",
   "execution_count": null,
   "metadata": {},
   "outputs": [],
   "source": [
    "eval_result = estimator.evaluate(input_fn=lambda: input_fn(test_features, test_labels, False, 32))"
   ]
  },
  {
   "cell_type": "code",
   "execution_count": null,
   "metadata": {},
   "outputs": [],
   "source": [
    "print(eval_result)"
   ]
  },
  {
   "cell_type": "code",
   "execution_count": 17,
   "metadata": {},
   "outputs": [
    {
     "name": "stdout",
     "output_type": "stream",
     "text": [
      "2.11.0\n"
     ]
    }
   ],
   "source": [
    "print(tf.__version__)"
   ]
  }
 ],
 "metadata": {
  "kernelspec": {
   "display_name": "Python 3",
   "language": "python",
   "name": "python3"
  },
  "language_info": {
   "codemirror_mode": {
    "name": "ipython",
    "version": 3
   },
   "file_extension": ".py",
   "mimetype": "text/x-python",
   "name": "python",
   "nbconvert_exporter": "python",
   "pygments_lexer": "ipython3",
   "version": "3.10.10"
  },
  "orig_nbformat": 4
 },
 "nbformat": 4,
 "nbformat_minor": 2
}
