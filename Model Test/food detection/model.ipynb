{
 "cells": [
  {
   "cell_type": "code",
   "execution_count": 1,
   "metadata": {},
   "outputs": [],
   "source": [
    "import numpy as np\n",
    "import pandas as pd\n",
    "import cv2\n",
    "from skimage import io"
   ]
  },
  {
   "cell_type": "code",
   "execution_count": 2,
   "metadata": {},
   "outputs": [],
   "source": [
    "import tensorflow.compat.v1 as tf\n",
    "import tensorflow_hub as hub\n"
   ]
  },
  {
   "cell_type": "code",
   "execution_count": 3,
   "metadata": {},
   "outputs": [],
   "source": [
    "import tensorflow.compat.v2 as tf\n",
    "import tensorflow_hub as hub"
   ]
  },
  {
   "cell_type": "code",
   "execution_count": 4,
   "metadata": {},
   "outputs": [
    {
     "name": "stdout",
     "output_type": "stream",
     "text": [
      "INFO:tensorflow:Saver not created because there are no variables in the graph to restore\n"
     ]
    },
    {
     "name": "stderr",
     "output_type": "stream",
     "text": [
      "INFO:tensorflow:Saver not created because there are no variables in the graph to restore\n"
     ]
    }
   ],
   "source": [
    "m = hub.KerasLayer('https://tfhub.dev/google/aiy/vision/classifier/food_V1/1')"
   ]
  },
  {
   "cell_type": "code",
   "execution_count": 5,
   "metadata": {},
   "outputs": [],
   "source": [
    "inputFood_url = \"foodimage2.jpeg\"\n",
    "labelmap_url = \"aiy_food_V1_labelmap.csv\"\n",
    "input_shape = (192 , 192 )\n"
   ]
  },
  {
   "cell_type": "code",
   "execution_count": 6,
   "metadata": {},
   "outputs": [],
   "source": [
    "image = np.asarray(io.imread(inputFood_url), dtype=\"float32\")\n",
    "image = cv2.resize(image, dsize=input_shape, interpolation=cv2.INTER_CUBIC)\n",
    "# Scale values to [0, 1].\n",
    "image = image / image.max()\n",
    "image = image.astype(np.float32)\n",
    "# The model expects an input of (?, 224, 224, 3).\n",
    "images = np.expand_dims(image, 0)"
   ]
  },
  {
   "cell_type": "code",
   "execution_count": 7,
   "metadata": {},
   "outputs": [
    {
     "name": "stdout",
     "output_type": "stream",
     "text": [
      "Prediction:  Waffle\n"
     ]
    }
   ],
   "source": [
    "output = m(images)\n",
    "predicted_index = output.numpy().argmax()\n",
    "classes = list(pd.read_csv(labelmap_url)[\"name\"])\n",
    "print(\"Prediction: \", classes[predicted_index])"
   ]
  },
  {
   "cell_type": "code",
   "execution_count": 8,
   "metadata": {},
   "outputs": [
    {
     "name": "stderr",
     "output_type": "stream",
     "text": [
      "WARNING:absl:Found untraced functions such as keras_layer_layer_call_fn, keras_layer_layer_call_and_return_conditional_losses while saving (showing 2 of 2). These functions will not be directly callable after loading.\n"
     ]
    },
    {
     "name": "stdout",
     "output_type": "stream",
     "text": [
      "INFO:tensorflow:Assets written to: C:\\Users\\THUSHA~1\\AppData\\Local\\Temp\\tmpmpvpslmp\\assets\n"
     ]
    },
    {
     "name": "stderr",
     "output_type": "stream",
     "text": [
      "INFO:tensorflow:Assets written to: C:\\Users\\THUSHA~1\\AppData\\Local\\Temp\\tmpmpvpslmp\\assets\n"
     ]
    }
   ],
   "source": [
    "converter = tf.lite.TFLiteConverter.from_keras_model(m)\n",
    "tflite_model = converter.convert()\n",
    "with open('food_classifier.tflite', 'wb') as f:\n",
    "    f.write(tflite_model)"
   ]
  },
  {
   "cell_type": "code",
   "execution_count": 12,
   "metadata": {},
   "outputs": [
    {
     "name": "stdout",
     "output_type": "stream",
     "text": [
      "Prediction:  Roast beef\n"
     ]
    }
   ],
   "source": [
    "import tensorflow as tf\n",
    "import numpy as np\n",
    "import pandas as pd\n",
    "import cv2\n",
    "from skimage import io\n",
    "\n",
    "# Load the TFLite model and allocate tensors.\n",
    "interpreter = tf.lite.Interpreter(model_path=\"food_classifier.tflite\")\n",
    "interpreter.allocate_tensors()\n",
    "\n",
    "# Get input and output tensors.\n",
    "input_details = interpreter.get_input_details()\n",
    "output_details = interpreter.get_output_details()\n",
    "\n",
    "# Load the image to be classified.\n",
    "image_url = \"foodImage.jpeg\"\n",
    "image = np.asarray(io.imread(image_url), dtype=\"float32\")\n",
    "image = cv2.resize(image, dsize=(192 , 192 ), interpolation=cv2.INTER_CUBIC)\n",
    "image = image / image.max()\n",
    "image = np.expand_dims(image, 0)\n",
    "\n",
    "# Set the input tensor.\n",
    "interpreter.set_tensor(input_details[0]['index'], image)\n",
    "\n",
    "# Invoke the interpreter.\n",
    "interpreter.invoke()\n",
    "\n",
    "# Get the output tensor.\n",
    "output = interpreter.get_tensor(output_details[0]['index'])\n",
    "predicted_index = np.argmax(output)\n",
    "classes = list(pd.read_csv(labelmap_url)[\"name\"])\n",
    "print(\"Prediction: \", classes[predicted_index])\n"
   ]
  }
 ],
 "metadata": {
  "kernelspec": {
   "display_name": "mlp",
   "language": "python",
   "name": "python3"
  },
  "language_info": {
   "codemirror_mode": {
    "name": "ipython",
    "version": 3
   },
   "file_extension": ".py",
   "mimetype": "text/x-python",
   "name": "python",
   "nbconvert_exporter": "python",
   "pygments_lexer": "ipython3",
   "version": "3.10.10"
  },
  "orig_nbformat": 4
 },
 "nbformat": 4,
 "nbformat_minor": 2
}
