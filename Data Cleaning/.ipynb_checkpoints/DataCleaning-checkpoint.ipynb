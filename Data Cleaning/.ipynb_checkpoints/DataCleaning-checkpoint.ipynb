{
 "cells": [
  {
   "cell_type": "code",
   "execution_count": 5,
   "id": "a2d79e72",
   "metadata": {},
   "outputs": [],
   "source": [
    "import pandas as pd\n",
    "import glob"
   ]
  },
  {
   "cell_type": "code",
   "execution_count": 6,
   "id": "2b7b0ad0",
   "metadata": {},
   "outputs": [],
   "source": [
    "path = 'patientDataZip'"
   ]
  },
  {
   "cell_type": "code",
   "execution_count": 7,
   "id": "31c8ffed",
   "metadata": {},
   "outputs": [],
   "source": [
    "files = glob.glob(path + \"/*.xlsx\")"
   ]
  },
  {
   "cell_type": "code",
   "execution_count": 10,
   "id": "514eefa5",
   "metadata": {},
   "outputs": [],
   "source": [
    "for file in files:\n",
    "    df = pd.read_csv(file)\n",
    "    df = df.drop(['CBG (mg / dl)','Insulin dose - s.c.','CSII - basal insulin (Novolin R, IU / H)','Insulin dose - i.v.'], axis=1) # specify the column names you want to drop\n",
    "    new_file_name = file.replace('.xlsx', '_new.xlsx') # create a new file name with _new.csv extension\n",
    "    df.to_csv(new_file_name, index=False) # save the modified CSV file with the new file name"
   ]
  },
  {
   "cell_type": "code",
   "execution_count": null,
   "id": "21922fcf",
   "metadata": {},
   "outputs": [],
   "source": []
  }
 ],
 "metadata": {
  "kernelspec": {
   "display_name": "Python 3 (ipykernel)",
   "language": "python",
   "name": "python3"
  },
  "language_info": {
   "codemirror_mode": {
    "name": "ipython",
    "version": 3
   },
   "file_extension": ".py",
   "mimetype": "text/x-python",
   "name": "python",
   "nbconvert_exporter": "python",
   "pygments_lexer": "ipython3",
   "version": "3.9.13"
  }
 },
 "nbformat": 4,
 "nbformat_minor": 5
}
