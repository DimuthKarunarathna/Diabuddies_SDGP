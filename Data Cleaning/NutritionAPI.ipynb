{
 "cells": [
  {
   "cell_type": "code",
   "execution_count": 3,
   "metadata": {},
   "outputs": [],
   "source": [
    "import pandas as pd\n",
    "\n",
    "excel_file = pd.read_excel('dietOnlyMergedCGM.xlsx')\n",
    "column_array = excel_file['Dietary intake'].values"
   ]
  },
  {
   "cell_type": "code",
   "execution_count": 4,
   "metadata": {},
   "outputs": [
    {
     "name": "stdout",
     "output_type": "stream",
     "text": [
      "['Noodles', 'Lettuce, shredded asparagus and fried vegetable soup', 'Tofu skin knot', 'Pork rib']\n",
      "['50 g', '200 ml', '60 g', '40 g']\n"
     ]
    }
   ],
   "source": [
    "import re\n",
    "\n",
    "food_and_weights = column_array[3]\n",
    "\n",
    "food_pattern = re.compile(r'(\\D+)')  # matches any non-digit character\n",
    "weight_pattern = re.compile(r'(\\d+)\\s*(\\w+)')  # matches one or more digits followed by any word character\n",
    "\n",
    "foods = []\n",
    "weights = []\n",
    "\n",
    "for line in food_and_weights.split('\\n'):\n",
    "    food_match = food_pattern.match(line)\n",
    "    if food_match:\n",
    "        foods.append(food_match.group(1).strip())\n",
    "\n",
    "    weight_match = weight_pattern.search(line)\n",
    "    if weight_match:\n",
    "        weight_value = weight_match.group(1)\n",
    "        weight_unit = weight_match.group(2)\n",
    "        weights.append(f\"{weight_value} {weight_unit}\")\n",
    "\n",
    "print(foods)    # ['Milk', 'Oats', 'Sesame and nut', 'Egg', 'Bread', 'Taro']\n",
    "print(weights)  # ['200 ml', '30 g', '15g', '40 g', '60 g', '40 g']"
   ]
  },
  {
   "cell_type": "code",
   "execution_count": 1,
   "metadata": {},
   "outputs": [],
   "source": [
    "import requests\n",
    "import json\n",
    "\n",
    "# Enter your APP_ID and APP_KEY here\n",
    "APP_ID = '43eab835'\n",
    "APP_KEY = '58d9804a26d558b53e37a6ace39caefe'\n",
    "\n",
    "# Enter the food and its weight here\n",
    "food = 'rice'\n",
    "weight = '1000g'\n",
    "\n",
    "# The API endpoint\n",
    "url = 'https://api.edamam.com/api/nutrition-data'\n",
    "\n",
    "# Defining the request parameters\n",
    "params = {\n",
    "    'app_id': APP_ID,\n",
    "    'app_key': APP_KEY,\n",
    "    'ingr': str(weight) + ' ' + food\n",
    "}\n",
    "\n",
    "# Sending the request and getting the response\n",
    "response = requests.get(url=url, params=params)"
   ]
  },
  {
   "cell_type": "code",
   "execution_count": 7,
   "metadata": {},
   "outputs": [],
   "source": [
    "import requests\n",
    "import json\n",
    "\n",
    "\n",
    "def getNutritionsFromAPI(foods,weights):\n",
    "    # Enter your APP_ID and APP_KEY here\n",
    "    APP_ID = '43eab835'\n",
    "    APP_KEY = '58d9804a26d558b53e37a6ace39caefe'\n",
    "\n",
    "    for i in range(len(foods)):\n",
    "        food = foods[i]\n",
    "        weight = weights[i]\n",
    "\n",
    "        url = 'https://api.edamam.com/api/nutrition-data'\n",
    "\n",
    "        params = {\n",
    "            'app_id': APP_ID,\n",
    "            'app_key': APP_KEY,\n",
    "            'ingr': str(weight) + ' ' + food\n",
    "        }\n",
    "\n",
    "        response = requests.get(url=url, params=params)\n",
    "\n",
    "        data = response.json()\n",
    "        with open('foods_jsons/'+food[i]+'.json', 'w') as f:\n",
    "            json.dump(data, f)"
   ]
  },
  {
   "cell_type": "code",
   "execution_count": 8,
   "metadata": {},
   "outputs": [
    {
     "ename": "FileNotFoundError",
     "evalue": "[Errno 2] No such file or directory: 'foods_jsons/N.json'",
     "output_type": "error",
     "traceback": [
      "\u001b[1;31m---------------------------------------------------------------------------\u001b[0m",
      "\u001b[1;31mFileNotFoundError\u001b[0m                         Traceback (most recent call last)",
      "\u001b[1;32m~\\AppData\\Local\\Temp\\ipykernel_20168\\1671708205.py\u001b[0m in \u001b[0;36m<module>\u001b[1;34m\u001b[0m\n\u001b[1;32m----> 1\u001b[1;33m \u001b[0mgetNutritionsFromAPI\u001b[0m\u001b[1;33m(\u001b[0m\u001b[0mfoods\u001b[0m\u001b[1;33m,\u001b[0m\u001b[0mweights\u001b[0m\u001b[1;33m)\u001b[0m\u001b[1;33m\u001b[0m\u001b[1;33m\u001b[0m\u001b[0m\n\u001b[0m",
      "\u001b[1;32m~\\AppData\\Local\\Temp\\ipykernel_20168\\2654331345.py\u001b[0m in \u001b[0;36mgetNutritionsFromAPI\u001b[1;34m(foods, weights)\u001b[0m\n\u001b[0;32m     23\u001b[0m \u001b[1;33m\u001b[0m\u001b[0m\n\u001b[0;32m     24\u001b[0m         \u001b[0mdata\u001b[0m \u001b[1;33m=\u001b[0m \u001b[0mresponse\u001b[0m\u001b[1;33m.\u001b[0m\u001b[0mjson\u001b[0m\u001b[1;33m(\u001b[0m\u001b[1;33m)\u001b[0m\u001b[1;33m\u001b[0m\u001b[1;33m\u001b[0m\u001b[0m\n\u001b[1;32m---> 25\u001b[1;33m         \u001b[1;32mwith\u001b[0m \u001b[0mopen\u001b[0m\u001b[1;33m(\u001b[0m\u001b[1;34m'foods_jsons/'\u001b[0m\u001b[1;33m+\u001b[0m\u001b[0mfood\u001b[0m\u001b[1;33m[\u001b[0m\u001b[0mi\u001b[0m\u001b[1;33m]\u001b[0m\u001b[1;33m+\u001b[0m\u001b[1;34m'.json'\u001b[0m\u001b[1;33m,\u001b[0m \u001b[1;34m'w'\u001b[0m\u001b[1;33m)\u001b[0m \u001b[1;32mas\u001b[0m \u001b[0mf\u001b[0m\u001b[1;33m:\u001b[0m\u001b[1;33m\u001b[0m\u001b[1;33m\u001b[0m\u001b[0m\n\u001b[0m\u001b[0;32m     26\u001b[0m             \u001b[0mjson\u001b[0m\u001b[1;33m.\u001b[0m\u001b[0mdump\u001b[0m\u001b[1;33m(\u001b[0m\u001b[0mdata\u001b[0m\u001b[1;33m,\u001b[0m \u001b[0mf\u001b[0m\u001b[1;33m)\u001b[0m\u001b[1;33m\u001b[0m\u001b[1;33m\u001b[0m\u001b[0m\n",
      "\u001b[1;31mFileNotFoundError\u001b[0m: [Errno 2] No such file or directory: 'foods_jsons/N.json'"
     ]
    }
   ],
   "source": [
    "getNutritionsFromAPI(foods,weights)"
   ]
  },
  {
   "cell_type": "code",
   "execution_count": 2,
   "metadata": {},
   "outputs": [],
   "source": [
    "data = response.json()\n",
    "with open('foods_test/nutrition_data2.json', 'w') as f:\n",
    "    json.dump(data, f)"
   ]
  }
 ],
 "metadata": {
  "interpreter": {
   "hash": "07efdcd4b820c98a756949507a4d29d7862823915ec7477944641bea022f4f62"
  },
  "kernelspec": {
   "display_name": "Python 3.9.13 ('base')",
   "language": "python",
   "name": "python3"
  },
  "language_info": {
   "codemirror_mode": {
    "name": "ipython",
    "version": 3
   },
   "file_extension": ".py",
   "mimetype": "text/x-python",
   "name": "python",
   "nbconvert_exporter": "python",
   "pygments_lexer": "ipython3",
   "version": "3.9.13"
  },
  "orig_nbformat": 4
 },
 "nbformat": 4,
 "nbformat_minor": 2
}
