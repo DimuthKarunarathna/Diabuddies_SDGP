{
 "cells": [
  {
   "cell_type": "code",
   "execution_count": 9,
   "metadata": {},
   "outputs": [
    {
     "name": "stdout",
     "output_type": "stream",
     "text": [
      "Collecting py_edamam\n",
      "  Downloading py_edamam-0.2.tar.gz (2.9 kB)\n",
      "  Preparing metadata (setup.py): started\n",
      "  Preparing metadata (setup.py): finished with status 'done'\n",
      "Building wheels for collected packages: py_edamam\n",
      "  Building wheel for py_edamam (setup.py): started\n",
      "  Building wheel for py_edamam (setup.py): finished with status 'done'\n",
      "  Created wheel for py_edamam: filename=py_edamam-0.2-py3-none-any.whl size=3640 sha256=0251f73cbaeadbac1f53db7c20c3d0d49a889205bf292994c0b65c9396231fdd\n",
      "  Stored in directory: c:\\users\\thushara piyasekara\\appdata\\local\\pip\\cache\\wheels\\08\\2b\\e2\\7205f8c9580e466e90dd9f245fd7f89b0ab76cc902b31d6035\n",
      "Successfully built py_edamam\n",
      "Installing collected packages: py_edamam\n",
      "Successfully installed py_edamam-0.2\n",
      "Note: you may need to restart the kernel to use updated packages.\n"
     ]
    }
   ],
   "source": [
    "pip install py_edamam"
   ]
  },
  {
   "cell_type": "code",
   "execution_count": 13,
   "metadata": {},
   "outputs": [
    {
     "name": "stderr",
     "output_type": "stream",
     "text": [
      "invalid recipe api key\n"
     ]
    },
    {
     "ename": "InvalidRecipeApiKey",
     "evalue": "",
     "output_type": "error",
     "traceback": [
      "\u001b[1;31m---------------------------------------------------------------------------\u001b[0m",
      "\u001b[1;31mInvalidRecipeApiKey\u001b[0m                       Traceback (most recent call last)",
      "\u001b[1;32m~\\AppData\\Local\\Temp\\ipykernel_24332\\1504547963.py\u001b[0m in \u001b[0;36m<module>\u001b[1;34m\u001b[0m\n\u001b[0;32m      5\u001b[0m     recipes_appkey='58d9804a26d558b53e37a6ace39caefe')\n\u001b[0;32m      6\u001b[0m \u001b[1;33m\u001b[0m\u001b[0m\n\u001b[1;32m----> 7\u001b[1;33m \u001b[1;32mfor\u001b[0m \u001b[0mrecipe\u001b[0m \u001b[1;32min\u001b[0m \u001b[0me\u001b[0m\u001b[1;33m.\u001b[0m\u001b[0msearch_recipe\u001b[0m\u001b[1;33m(\u001b[0m\u001b[1;34m\"onion and chicken\"\u001b[0m\u001b[1;33m)\u001b[0m\u001b[1;33m:\u001b[0m\u001b[1;33m\u001b[0m\u001b[1;33m\u001b[0m\u001b[0m\n\u001b[0m\u001b[0;32m      8\u001b[0m     \u001b[0mprint\u001b[0m\u001b[1;33m(\u001b[0m\u001b[0mrecipe\u001b[0m\u001b[1;33m)\u001b[0m\u001b[1;33m\u001b[0m\u001b[1;33m\u001b[0m\u001b[0m\n\u001b[0;32m      9\u001b[0m     \u001b[0mprint\u001b[0m\u001b[1;33m(\u001b[0m\u001b[0mrecipe\u001b[0m\u001b[1;33m.\u001b[0m\u001b[0mcalories\u001b[0m\u001b[1;33m)\u001b[0m\u001b[1;33m\u001b[0m\u001b[1;33m\u001b[0m\u001b[0m\n",
      "\u001b[1;32mD:\\Anaconda\\lib\\site-packages\\py_edamam\\__init__.py\u001b[0m in \u001b[0;36msearch_recipe\u001b[1;34m(self, query)\u001b[0m\n\u001b[0;32m     89\u001b[0m \u001b[1;33m\u001b[0m\u001b[0m\n\u001b[0;32m     90\u001b[0m     \u001b[1;32mdef\u001b[0m \u001b[0msearch_recipe\u001b[0m\u001b[1;33m(\u001b[0m\u001b[0mself\u001b[0m\u001b[1;33m,\u001b[0m \u001b[0mquery\u001b[0m\u001b[1;33m)\u001b[0m\u001b[1;33m:\u001b[0m\u001b[1;33m\u001b[0m\u001b[1;33m\u001b[0m\u001b[0m\n\u001b[1;32m---> 91\u001b[1;33m         \u001b[0mdata\u001b[0m \u001b[1;33m=\u001b[0m \u001b[0msuper\u001b[0m\u001b[1;33m(\u001b[0m\u001b[1;33m)\u001b[0m\u001b[1;33m.\u001b[0m\u001b[0msearch_recipe\u001b[0m\u001b[1;33m(\u001b[0m\u001b[0mquery\u001b[0m\u001b[1;33m)\u001b[0m\u001b[1;33m\u001b[0m\u001b[1;33m\u001b[0m\u001b[0m\n\u001b[0m\u001b[0;32m     92\u001b[0m         \u001b[0mhits\u001b[0m \u001b[1;33m=\u001b[0m \u001b[0mdata\u001b[0m\u001b[1;33m[\u001b[0m\u001b[1;34m\"hits\"\u001b[0m\u001b[1;33m]\u001b[0m\u001b[1;33m\u001b[0m\u001b[1;33m\u001b[0m\u001b[0m\n\u001b[0;32m     93\u001b[0m         \u001b[1;32mfor\u001b[0m \u001b[0mhit\u001b[0m \u001b[1;32min\u001b[0m \u001b[0mhits\u001b[0m\u001b[1;33m:\u001b[0m\u001b[1;33m\u001b[0m\u001b[1;33m\u001b[0m\u001b[0m\n",
      "\u001b[1;32mD:\\Anaconda\\lib\\site-packages\\py_edamam\\__init__.py\u001b[0m in \u001b[0;36msearch_recipe\u001b[1;34m(self, query)\u001b[0m\n\u001b[0;32m     35\u001b[0m         \u001b[1;32mif\u001b[0m \u001b[0mr\u001b[0m\u001b[1;33m.\u001b[0m\u001b[0mstatus_code\u001b[0m \u001b[1;33m==\u001b[0m \u001b[1;36m401\u001b[0m\u001b[1;33m:\u001b[0m\u001b[1;33m\u001b[0m\u001b[1;33m\u001b[0m\u001b[0m\n\u001b[0;32m     36\u001b[0m             \u001b[0mlogger\u001b[0m\u001b[1;33m.\u001b[0m\u001b[0merror\u001b[0m\u001b[1;33m(\u001b[0m\u001b[1;34m\"invalid recipe api key\"\u001b[0m\u001b[1;33m)\u001b[0m\u001b[1;33m\u001b[0m\u001b[1;33m\u001b[0m\u001b[0m\n\u001b[1;32m---> 37\u001b[1;33m             \u001b[1;32mraise\u001b[0m \u001b[0mInvalidRecipeApiKey\u001b[0m\u001b[1;33m\u001b[0m\u001b[1;33m\u001b[0m\u001b[0m\n\u001b[0m\u001b[0;32m     38\u001b[0m         \u001b[1;32mreturn\u001b[0m \u001b[0mr\u001b[0m\u001b[1;33m.\u001b[0m\u001b[0mjson\u001b[0m\u001b[1;33m(\u001b[0m\u001b[1;33m)\u001b[0m\u001b[1;33m\u001b[0m\u001b[1;33m\u001b[0m\u001b[0m\n\u001b[0;32m     39\u001b[0m \u001b[1;33m\u001b[0m\u001b[0m\n",
      "\u001b[1;31mInvalidRecipeApiKey\u001b[0m: "
     ]
    }
   ],
   "source": [
    "from py_edamam import PyEdamam\n",
    "\n",
    "e = PyEdamam(\n",
    "    recipes_appid='43eab835',\n",
    "    recipes_appkey='58d9804a26d558b53e37a6ace39caefe')\n",
    "\n",
    "for recipe in e.search_recipe(\"onion and chicken\"):\n",
    "    print(recipe)\n",
    "    print(recipe.calories)\n",
    "    print(recipe.cautions, recipe.dietLabels, recipe.healthLabels)\n",
    "    print(recipe.url)\n",
    "    print(recipe.ingredient_quantities)\n",
    "    break\n",
    "\n",
    "for nutrient_data in e.search_nutrient(\"2 egg whites\"):\n",
    "    print(nutrient_data)\n",
    "    print(nutrient_data.calories)\n",
    "    print(nutrient_data.cautions, nutrient_data.dietLabels,\n",
    "          nutrient_data.healthLabels)\n",
    "    print(nutrient_data.totalNutrients)\n",
    "    print(nutrient_data.totalDaily)\n",
    "\n",
    "for food in e.search_food(\"coffee and pizza\"):\n",
    "    print(food)\n",
    "    print(food.category)\n",
    "    print(food.nutrients)"
   ]
  },
  {
   "cell_type": "code",
   "execution_count": 21,
   "metadata": {},
   "outputs": [
    {
     "name": "stdout",
     "output_type": "stream",
     "text": [
      "{'uri': 'http://www.edamam.com/ontologies/edamam.owl#recipe_308cbabde6e3446d86601a63d3f470ef', 'calories': 62, 'totalWeight': 103.13276924062113, 'dietLabels': ['LOW_SODIUM'], 'healthLabels': ['LOW_FAT_ABS', 'LOW_POTASSIUM', 'KIDNEY_FRIENDLY', 'KETO_FRIENDLY', 'VEGETARIAN', 'PESCATARIAN', 'MEDITERRANEAN', 'GLUTEN_FREE', 'WHEAT_FREE', 'EGG_FREE', 'PEANUT_FREE', 'TREE_NUT_FREE', 'SOY_FREE', 'FISH_FREE', 'SHELLFISH_FREE', 'PORK_FREE', 'RED_MEAT_FREE', 'CRUSTACEAN_FREE', 'CELERY_FREE', 'MUSTARD_FREE', 'SESAME_FREE', 'LUPINE_FREE', 'MOLLUSK_FREE', 'ALCOHOL_FREE', 'NO_OIL_ADDED', 'NO_SUGAR_ADDED', 'SULPHITE_FREE', 'KOSHER'], 'cautions': [], 'totalNutrients': {'ENERC_KCAL': {'label': 'Energy', 'quantity': 62.910989236778896, 'unit': 'kcal'}, 'FAT': {'label': 'Total lipid (fat)', 'quantity': 3.3518150003201868, 'unit': 'g'}, 'FASAT': {'label': 'Fatty acids, total saturated', 'quantity': 1.9234261463375841, 'unit': 'g'}, 'FAMS': {'label': 'Fatty acids, total monounsaturated', 'quantity': 0.8374380862338436, 'unit': 'g'}, 'FAPU': {'label': 'Fatty acids, total polyunsaturated', 'quantity': 0.20110890001921122, 'unit': 'g'}, 'CHOCDF': {'label': 'Carbohydrate, by difference', 'quantity': 4.950372923549814, 'unit': 'g'}, 'CHOCDF.net': {'label': 'Carbohydrates (net)', 'quantity': 4.950372923549814, 'unit': 'g'}, 'FIBTG': {'label': 'Fiber, total dietary', 'quantity': 0.0, 'unit': 'g'}, 'SUGAR': {'label': 'Sugars, total', 'quantity': 5.208204846651367, 'unit': 'g'}, 'PROCNT': {'label': 'Protein', 'quantity': 3.2486822310795658, 'unit': 'g'}, 'CHOLE': {'label': 'Cholesterol', 'quantity': 10.313276924062114, 'unit': 'mg'}, 'NA': {'label': 'Sodium, Na', 'quantity': 44.34709077346709, 'unit': 'mg'}, 'CA': {'label': 'Calcium, Ca', 'quantity': 116.54002924190188, 'unit': 'mg'}, 'MG': {'label': 'Magnesium, Mg', 'quantity': 10.313276924062114, 'unit': 'mg'}, 'K': {'label': 'Potassium, K', 'quantity': 136.1352553976199, 'unit': 'mg'}, 'FE': {'label': 'Iron, Fe', 'quantity': 0.03093983077218634, 'unit': 'mg'}, 'ZN': {'label': 'Zinc, Zn', 'quantity': 0.3815912461902982, 'unit': 'mg'}, 'P': {'label': 'Phosphorus, P', 'quantity': 86.63152616212176, 'unit': 'mg'}, 'VITA_RAE': {'label': 'Vitamin A, RAE', 'quantity': 47.441073850685726, 'unit': 'µg'}, 'VITC': {'label': 'Vitamin C, total ascorbic acid', 'quantity': 0.0, 'unit': 'mg'}, 'THIA': {'label': 'Thiamin', 'quantity': 0.047441073850685724, 'unit': 'mg'}, 'RIBF': {'label': 'Riboflavin', 'quantity': 0.17429438001664974, 'unit': 'mg'}, 'NIA': {'label': 'Niacin', 'quantity': 0.0917881646241528, 'unit': 'mg'}, 'VITB6A': {'label': 'Vitamin B-6', 'quantity': 0.03712779692662361, 'unit': 'mg'}, 'FOLDFE': {'label': 'Folate, DFE', 'quantity': 5.156638462031057, 'unit': 'µg'}, 'FOLFD': {'label': 'Folate, food', 'quantity': 5.156638462031057, 'unit': 'µg'}, 'FOLAC': {'label': 'Folic acid', 'quantity': 0.0, 'unit': 'µg'}, 'VITB12': {'label': 'Vitamin B-12', 'quantity': 0.46409746158279513, 'unit': 'µg'}, 'VITD': {'label': 'Vitamin D (D2 + D3)', 'quantity': 1.3407260001280747, 'unit': 'µg'}, 'TOCPHA': {'label': 'Vitamin E (alpha-tocopherol)', 'quantity': 0.0721929384684348, 'unit': 'mg'}, 'VITK1': {'label': 'Vitamin K (phylloquinone)', 'quantity': 0.3093983077218634, 'unit': 'µg'}, 'WATER': {'label': 'Water', 'quantity': 90.8909095317594, 'unit': 'g'}}, 'totalDaily': {'ENERC_KCAL': {'label': 'Energy', 'quantity': 3.145549461838945, 'unit': '%'}, 'FAT': {'label': 'Fat', 'quantity': 5.156638462031056, 'unit': '%'}, 'FASAT': {'label': 'Saturated', 'quantity': 9.61713073168792, 'unit': '%'}, 'CHOCDF': {'label': 'Carbs', 'quantity': 1.6501243078499381, 'unit': '%'}, 'FIBTG': {'label': 'Fiber', 'quantity': 0.0, 'unit': '%'}, 'PROCNT': {'label': 'Protein', 'quantity': 6.4973644621591315, 'unit': '%'}, 'CHOLE': {'label': 'Cholesterol', 'quantity': 3.437758974687371, 'unit': '%'}, 'NA': {'label': 'Sodium', 'quantity': 1.8477954488944621, 'unit': '%'}, 'CA': {'label': 'Calcium', 'quantity': 11.654002924190188, 'unit': '%'}, 'MG': {'label': 'Magnesium', 'quantity': 2.4555421247766938, 'unit': '%'}, 'K': {'label': 'Potassium', 'quantity': 2.89649479569404, 'unit': '%'}, 'FE': {'label': 'Iron', 'quantity': 0.17188794873436855, 'unit': '%'}, 'ZN': {'label': 'Zinc', 'quantity': 3.4690113290027114, 'unit': '%'}, 'P': {'label': 'Phosphorus', 'quantity': 12.375932308874535, 'unit': '%'}, 'VITA_RAE': {'label': 'Vitamin A', 'quantity': 5.271230427853969, 'unit': '%'}, 'VITC': {'label': 'Vitamin C', 'quantity': 0.0, 'unit': '%'}, 'THIA': {'label': 'Thiamin (B1)', 'quantity': 3.953422820890477, 'unit': '%'}, 'RIBF': {'label': 'Riboflavin (B2)', 'quantity': 13.407260001280749, 'unit': '%'}, 'NIA': {'label': 'Niacin (B3)', 'quantity': 0.573676028900955, 'unit': '%'}, 'VITB6A': {'label': 'Vitamin B6', 'quantity': 2.855984378971047, 'unit': '%'}, 'FOLDFE': {'label': 'Folate equivalent (total)', 'quantity': 1.2891596155077643, 'unit': '%'}, 'VITB12': {'label': 'Vitamin B12', 'quantity': 19.337394232616465, 'unit': '%'}, 'VITD': {'label': 'Vitamin D', 'quantity': 8.938173334187164, 'unit': '%'}, 'TOCPHA': {'label': 'Vitamin E', 'quantity': 0.481286256456232, 'unit': '%'}, 'VITK1': {'label': 'Vitamin K', 'quantity': 0.25783192310155284, 'unit': '%'}}, 'ingredients': [{'text': '100ml milk', 'parsed': [{'quantity': 100.0, 'measure': 'milliliter', 'foodMatch': 'milk', 'food': 'whole milk', 'foodId': 'food_b49rs1kaw0jktabzkg2vvanvvsis', 'weight': 103.13276924062113, 'retainedWeight': 103.13276924062113, 'nutrients': {'VITD': {'label': 'Vitamin D', 'quantity': 52.59771231271677, 'unit': 'IU'}, 'ENERC_KCAL': {'label': 'Energy', 'quantity': 62.91098923677889, 'unit': 'kcal'}, 'FASAT': {'label': 'Fatty acids, total saturated', 'quantity': 1.9234261463375841, 'unit': 'g'}, 'VITA_RAE': {'label': 'Vitamin A, RAE', 'quantity': 47.44107385068572, 'unit': 'µg'}, 'PROCNT': {'label': 'Protein', 'quantity': 3.2486822310795658, 'unit': 'g'}, 'TOCPHA': {'label': 'Vitamin E (alpha-tocopherol)', 'quantity': 0.0721929384684348, 'unit': 'mg'}, 'CHOLE': {'label': 'Cholesterol', 'quantity': 10.313276924062114, 'unit': 'mg'}, 'CHOCDF': {'label': 'Carbohydrate, by difference', 'quantity': 4.950372923549814, 'unit': 'g'}, 'FAT': {'label': 'Total lipid (fat)', 'quantity': 3.3518150003201868, 'unit': 'g'}, 'FIBTG': {'label': 'Fiber, total dietary', 'quantity': 0.0, 'unit': 'g'}, 'RIBF': {'label': 'Riboflavin', 'quantity': 0.17429438001664974, 'unit': 'mg'}, 'THIA': {'label': 'Thiamin', 'quantity': 0.047441073850685724, 'unit': 'mg'}, 'FAPU': {'label': 'Fatty acids, total polyunsaturated', 'quantity': 0.2011089000192112, 'unit': 'g'}, 'NIA': {'label': 'Niacin', 'quantity': 0.0917881646241528, 'unit': 'mg'}, 'VITC': {'label': 'Vitamin C, total ascorbic acid', 'quantity': 0.0, 'unit': 'mg'}, 'FAMS': {'label': 'Fatty acids, total monounsaturated', 'quantity': 0.8374380862338436, 'unit': 'g'}, 'VITB6A': {'label': 'Vitamin B-6', 'quantity': 0.0371277969266236, 'unit': 'mg'}, 'VITB12': {'label': 'Vitamin B-12', 'quantity': 0.4640974615827951, 'unit': 'µg'}, 'WATER': {'label': 'Water', 'quantity': 90.89090953175939, 'unit': 'g'}, 'K': {'label': 'Potassium, K', 'quantity': 136.1352553976199, 'unit': 'mg'}, 'P': {'label': 'Phosphorus, P', 'quantity': 86.63152616212176, 'unit': 'mg'}, 'NA': {'label': 'Sodium, Na', 'quantity': 44.34709077346709, 'unit': 'mg'}, 'ZN': {'label': 'Zinc, Zn', 'quantity': 0.38159124619029816, 'unit': 'mg'}, 'SUGAR': {'label': 'Sugars, total', 'quantity': 5.208204846651366, 'unit': 'g'}, 'CA': {'label': 'Calcium, Ca', 'quantity': 116.54002924190189, 'unit': 'mg'}, 'MG': {'label': 'Magnesium, Mg', 'quantity': 10.313276924062114, 'unit': 'mg'}, 'FE': {'label': 'Iron, Fe', 'quantity': 0.030939830772186337, 'unit': 'mg'}, 'VITK1': {'label': 'Vitamin K (phylloquinone)', 'quantity': 0.3093983077218634, 'unit': 'µg'}, 'FOLFD': {'label': 'Folate, food', 'quantity': 5.156638462031057, 'unit': 'µg'}, 'FOLAC': {'label': 'Folic acid', 'quantity': 0.0, 'unit': 'µg'}, 'FOLDFE': {'label': 'Folate, DFE', 'quantity': 5.156638462031057, 'unit': 'µg'}}, 'measureURI': 'http://www.edamam.com/ontologies/edamam.owl#Measure_milliliter', 'status': 'OK'}]}], 'totalNutrientsKCal': {'ENERC_KCAL': {'label': 'Energy', 'quantity': 63, 'unit': 'kcal'}, 'PROCNT_KCAL': {'label': 'Calories from protein', 'quantity': 13, 'unit': 'kcal'}, 'FAT_KCAL': {'label': 'Calories from fat', 'quantity': 30, 'unit': 'kcal'}, 'CHOCDF_KCAL': {'label': 'Calories from carbohydrates', 'quantity': 20, 'unit': 'kcal'}}}\n"
     ]
    }
   ],
   "source": [
    "import requests\n",
    "\n",
    "# Enter your APP_ID and APP_KEY here\n",
    "APP_ID = '43eab835'\n",
    "APP_KEY = '58d9804a26d558b53e37a6ace39caefe'\n",
    "\n",
    "# Enter the food and its weight here\n",
    "food = 'milk'\n",
    "weight = '100ml'\n",
    "\n",
    "# The API endpoint\n",
    "url = 'https://api.edamam.com/api/nutrition-data'\n",
    "\n",
    "# Defining the request parameters\n",
    "params = {\n",
    "    'app_id': APP_ID,\n",
    "    'app_key': APP_KEY,\n",
    "    'ingr': str(weight) + ' ' + food\n",
    "}\n",
    "\n",
    "# Sending the request and getting the response\n",
    "response = requests.get(url=url, params=params)\n",
    "\n",
    "# Printing the response\n",
    "print(response.json())"
   ]
  },
  {
   "cell_type": "code",
   "execution_count": 22,
   "metadata": {},
   "outputs": [],
   "source": [
    "data = response.json()\n",
    "with open('nutrition_data.json', 'w') as f:\n",
    "    json.dump(data, f)"
   ]
  }
 ],
 "metadata": {
  "interpreter": {
   "hash": "07efdcd4b820c98a756949507a4d29d7862823915ec7477944641bea022f4f62"
  },
  "kernelspec": {
   "display_name": "Python 3.9.13 ('base')",
   "language": "python",
   "name": "python3"
  },
  "language_info": {
   "codemirror_mode": {
    "name": "ipython",
    "version": 3
   },
   "file_extension": ".py",
   "mimetype": "text/x-python",
   "name": "python",
   "nbconvert_exporter": "python",
   "pygments_lexer": "ipython3",
   "version": "3.9.13"
  },
  "orig_nbformat": 4
 },
 "nbformat": 4,
 "nbformat_minor": 2
}
