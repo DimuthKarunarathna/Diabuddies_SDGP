{
 "cells": [
  {
   "cell_type": "code",
   "execution_count": 8,
   "metadata": {},
   "outputs": [],
   "source": [
    "import pandas as pd\n",
    "\n",
    "excel_file = pd.read_excel('dietOnlyMergedCGM.xlsx')\n",
    "column_array = excel_file['Dietary intake'].values"
   ]
  },
  {
   "cell_type": "code",
   "execution_count": 18,
   "metadata": {},
   "outputs": [
    {
     "name": "stdout",
     "output_type": "stream",
     "text": [
      "['Noodles', 'Lettuce, shredded asparagus and fried vegetable soup', 'Tofu skin knot', 'Pork rib']\n",
      "['50 g', '200 ml', '60 g', '40 g']\n"
     ]
    }
   ],
   "source": [
    "import re\n",
    "\n",
    "food_and_weights = column_array[3]\n",
    "\n",
    "food_pattern = re.compile(r'(\\D+)')  # matches any non-digit character\n",
    "weight_pattern = re.compile(r'(\\d+)\\s*(\\w+)')  # matches one or more digits followed by any word character\n",
    "\n",
    "foods = []\n",
    "weights = []\n",
    "\n",
    "for line in food_and_weights.split('\\n'):\n",
    "    food_match = food_pattern.match(line)\n",
    "    if food_match:\n",
    "        foods.append(food_match.group(1).strip())\n",
    "\n",
    "    weight_match = weight_pattern.search(line)\n",
    "    if weight_match:\n",
    "        weight_value = weight_match.group(1)\n",
    "        weight_unit = weight_match.group(2)\n",
    "        weights.append(f\"{weight_value} {weight_unit}\")\n",
    "\n",
    "print(foods)    # ['Milk', 'Oats', 'Sesame and nut', 'Egg', 'Bread', 'Taro']\n",
    "print(weights)  # ['200 ml', '30 g', '15g', '40 g', '60 g', '40 g']"
   ]
  }
 ],
 "metadata": {
  "interpreter": {
   "hash": "07efdcd4b820c98a756949507a4d29d7862823915ec7477944641bea022f4f62"
  },
  "kernelspec": {
   "display_name": "Python 3.9.13 ('base')",
   "language": "python",
   "name": "python3"
  },
  "language_info": {
   "codemirror_mode": {
    "name": "ipython",
    "version": 3
   },
   "file_extension": ".py",
   "mimetype": "text/x-python",
   "name": "python",
   "nbconvert_exporter": "python",
   "pygments_lexer": "ipython3",
   "version": "3.9.13"
  },
  "orig_nbformat": 4
 },
 "nbformat": 4,
 "nbformat_minor": 2
}
