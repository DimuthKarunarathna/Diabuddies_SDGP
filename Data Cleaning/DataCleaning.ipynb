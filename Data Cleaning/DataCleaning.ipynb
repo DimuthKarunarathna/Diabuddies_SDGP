{
 "cells": [
  {
   "cell_type": "code",
   "execution_count": 2,
   "id": "a2d79e72",
   "metadata": {},
   "outputs": [],
   "source": [
    "import pandas as pd\n",
    "import os"
   ]
  },
  {
   "cell_type": "code",
   "execution_count": 45,
   "id": "2b7b0ad0",
   "metadata": {},
   "outputs": [],
   "source": [
    "path = 'AllInOneCustom'"
   ]
  },
  {
   "cell_type": "code",
   "execution_count": 46,
   "id": "31c8ffed",
   "metadata": {},
   "outputs": [],
   "source": [
    "def merge_files(path):\n",
    "    all_data = pd.DataFrame()\n",
    "    for file in os.listdir(path):\n",
    "        if file.endswith('.xls'):\n",
    "            df = pd.read_excel(os.path.join(path, file))\n",
    "            df['File Name'] = os.path.splitext(file)[0]\n",
    "            all_data = all_data.append(df, ignore_index=True)\n",
    "    return all_data"
   ]
  },
  {
   "cell_type": "code",
   "execution_count": null,
   "id": "514eefa5",
   "metadata": {},
   "outputs": [],
   "source": [
    "merged_data = merge_files(path)\n",
    "merged_data.to_excel('test3AllInOne.xlsx', index=False)"
   ]
  },
  {
   "cell_type": "code",
   "execution_count": 6,
   "id": "438104f7",
   "metadata": {},
   "outputs": [],
   "source": [
    "df2 = pd.read_csv('AllInOneCustomCSV.csv')"
   ]
  },
  {
   "cell_type": "code",
   "execution_count": 10,
   "id": "66bebc0b",
   "metadata": {},
   "outputs": [
    {
     "name": "stdout",
     "output_type": "stream",
     "text": [
      "<class 'pandas.core.frame.DataFrame'>\n",
      "RangeIndex: 95532 entries, 0 to 95531\n",
      "Data columns (total 7 columns):\n",
      " #   Column                           Non-Null Count  Dtype         \n",
      "---  ------                           --------------  -----         \n",
      " 0   Date                             95440 non-null  datetime64[ns]\n",
      " 1   CGM (mg / dl)                    92772 non-null  float64       \n",
      " 2   Dietary intake                   3237 non-null   object        \n",
      " 3   Insulin dose - s.c.              680 non-null    object        \n",
      " 4   Non-insulin hypoglycemic agents  1863 non-null   object        \n",
      " 5   File Name                        95532 non-null  object        \n",
      " 6   CGM                              2668 non-null   float64       \n",
      "dtypes: datetime64[ns](1), float64(2), object(4)\n",
      "memory usage: 5.1+ MB\n"
     ]
    }
   ],
   "source": [
    "import pandas as pd\n",
    "\n",
    "# Load the XLS file into a DataFrame\n",
    "df = pd.read_excel('AllInOneCustom.xlsx')\n",
    "df.info()\n"
   ]
  },
  {
   "cell_type": "code",
   "execution_count": 12,
   "id": "f508766e",
   "metadata": {},
   "outputs": [
    {
     "name": "stdout",
     "output_type": "stream",
     "text": [
      "<class 'pandas.core.frame.DataFrame'>\n",
      "Int64Index: 94895 entries, 0 to 95531\n",
      "Data columns (total 7 columns):\n",
      " #   Column                           Non-Null Count  Dtype         \n",
      "---  ------                           --------------  -----         \n",
      " 0   Date                             94803 non-null  datetime64[ns]\n",
      " 1   CGM (mg / dl)                    92143 non-null  float64       \n",
      " 2   Dietary intake                   2600 non-null   object        \n",
      " 3   Insulin dose - s.c.              653 non-null    object        \n",
      " 4   Non-insulin hypoglycemic agents  1523 non-null   object        \n",
      " 5   File Name                        94895 non-null  object        \n",
      " 6   CGM                              2660 non-null   float64       \n",
      "dtypes: datetime64[ns](1), float64(2), object(4)\n",
      "memory usage: 5.8+ MB\n"
     ]
    }
   ],
   "source": [
    "# Drop all rows with \"data not available\" in the specific column\n",
    "df = df[df['Dietary intake'] != 'data not available']\n",
    "df.info()"
   ]
  },
  {
   "cell_type": "code",
   "execution_count": 14,
   "id": "1bce2a20",
   "metadata": {},
   "outputs": [
    {
     "name": "stdout",
     "output_type": "stream",
     "text": [
      "<class 'pandas.core.frame.DataFrame'>\n",
      "Int64Index: 2600 entries, 31 to 95519\n",
      "Data columns (total 7 columns):\n",
      " #   Column                           Non-Null Count  Dtype         \n",
      "---  ------                           --------------  -----         \n",
      " 0   Date                             2600 non-null   datetime64[ns]\n",
      " 1   CGM (mg / dl)                    2504 non-null   float64       \n",
      " 2   Dietary intake                   2600 non-null   object        \n",
      " 3   Insulin dose - s.c.              132 non-null    object        \n",
      " 4   Non-insulin hypoglycemic agents  989 non-null    object        \n",
      " 5   File Name                        2600 non-null   object        \n",
      " 6   CGM                              96 non-null     float64       \n",
      "dtypes: datetime64[ns](1), float64(2), object(4)\n",
      "memory usage: 162.5+ KB\n"
     ]
    }
   ],
   "source": [
    "df = df.dropna(subset=['Dietary intake'])\n",
    "df.info()"
   ]
  },
  {
   "cell_type": "code",
   "execution_count": 15,
   "id": "ecfc0179",
   "metadata": {},
   "outputs": [],
   "source": [
    "df.to_excel('dietOnly.xlsx', index=False)"
   ]
  },
  {
   "cell_type": "code",
   "execution_count": 26,
   "id": "b68b3dea",
   "metadata": {},
   "outputs": [
    {
     "name": "stdout",
     "output_type": "stream",
     "text": [
      "Date                               datetime64[ns]\n",
      "CGM (mg / dl)                             float64\n",
      "Dietary intake                             object\n",
      "Insulin dose - s.c.                        object\n",
      "Non-insulin hypoglycemic agents            object\n",
      "File Name                                  object\n",
      "CGM                                       float64\n",
      "dtype: object\n"
     ]
    }
   ],
   "source": [
    "print(df.dtypes)"
   ]
  },
  {
   "cell_type": "code",
   "execution_count": 37,
   "id": "eeca59c6",
   "metadata": {},
   "outputs": [
    {
     "name": "stderr",
     "output_type": "stream",
     "text": [
      "C:\\Users\\Thushara Piyasekara\\AppData\\Local\\Temp\\ipykernel_12532\\4272951946.py:1: SettingWithCopyWarning: \n",
      "A value is trying to be set on a copy of a slice from a DataFrame.\n",
      "Try using .loc[row_indexer,col_indexer] = value instead\n",
      "\n",
      "See the caveats in the documentation: https://pandas.pydata.org/pandas-docs/stable/user_guide/indexing.html#returning-a-view-versus-a-copy\n",
      "  df['Merged CGM (mg / dl)'] = df.apply(lambda x: str(x['CGM (mg / dl)']) + str(x['CGM ']), axis=1)\n"
     ]
    }
   ],
   "source": [
    "df['Merged CGM (mg / dl)'] = df.apply(lambda x: str(x['CGM (mg / dl)']) + str(x['CGM ']), axis=1)"
   ]
  },
  {
   "cell_type": "code",
   "execution_count": 38,
   "id": "5f9ab7a1",
   "metadata": {},
   "outputs": [
    {
     "name": "stdout",
     "output_type": "stream",
     "text": [
      "<class 'pandas.core.frame.DataFrame'>\n",
      "Int64Index: 2600 entries, 31 to 95519\n",
      "Data columns (total 9 columns):\n",
      " #   Column                           Non-Null Count  Dtype         \n",
      "---  ------                           --------------  -----         \n",
      " 0   Date                             2600 non-null   datetime64[ns]\n",
      " 1   CGM (mg / dl)                    2504 non-null   float64       \n",
      " 2   Dietary intake                   2600 non-null   object        \n",
      " 3   Insulin dose - s.c.              132 non-null    object        \n",
      " 4   Non-insulin hypoglycemic agents  989 non-null    object        \n",
      " 5   File Name                        2600 non-null   object        \n",
      " 6   CGM                              96 non-null     float64       \n",
      " 7   CGM merged                       0 non-null      float64       \n",
      " 8   Merged CGM (mg / dl)             2600 non-null   object        \n",
      "dtypes: datetime64[ns](1), float64(3), object(5)\n",
      "memory usage: 203.1+ KB\n",
      "None\n"
     ]
    }
   ],
   "source": [
    "print(df.info())"
   ]
  },
  {
   "cell_type": "code",
   "execution_count": 40,
   "id": "4d3589b7",
   "metadata": {},
   "outputs": [],
   "source": [
    "df = df.drop(['CGM (mg / dl)', 'CGM ','CGM merged'], axis=1)"
   ]
  },
  {
   "cell_type": "code",
   "execution_count": 41,
   "id": "44f3d386",
   "metadata": {},
   "outputs": [
    {
     "name": "stdout",
     "output_type": "stream",
     "text": [
      "<class 'pandas.core.frame.DataFrame'>\n",
      "Int64Index: 2600 entries, 31 to 95519\n",
      "Data columns (total 6 columns):\n",
      " #   Column                           Non-Null Count  Dtype         \n",
      "---  ------                           --------------  -----         \n",
      " 0   Date                             2600 non-null   datetime64[ns]\n",
      " 1   Dietary intake                   2600 non-null   object        \n",
      " 2   Insulin dose - s.c.              132 non-null    object        \n",
      " 3   Non-insulin hypoglycemic agents  989 non-null    object        \n",
      " 4   File Name                        2600 non-null   object        \n",
      " 5   Merged CGM (mg / dl)             2600 non-null   object        \n",
      "dtypes: datetime64[ns](1), object(5)\n",
      "memory usage: 142.2+ KB\n",
      "None\n"
     ]
    }
   ],
   "source": [
    "print(df.info())"
   ]
  },
  {
   "cell_type": "code",
   "execution_count": 42,
   "id": "ecbbf65f",
   "metadata": {},
   "outputs": [],
   "source": [
    "df.to_excel('dietOnlyMergedCGM.xlsx', index=False)"
   ]
  },
  {
   "cell_type": "code",
   "execution_count": 43,
   "id": "16fc16be",
   "metadata": {},
   "outputs": [],
   "source": [
    "df = df.rename(columns={'Merged CGM (mg / dl)': 'CGM (mg / dl) pre-diet'})"
   ]
  },
  {
   "cell_type": "code",
   "execution_count": 45,
   "id": "1e1c00ef",
   "metadata": {},
   "outputs": [],
   "source": [
    "df.to_excel('dietOnlyMergedCGM.xlsx', index=False)"
   ]
  }
 ],
 "metadata": {
  "kernelspec": {
   "display_name": "Python 3 (ipykernel)",
   "language": "python",
   "name": "python3"
  },
  "language_info": {
   "codemirror_mode": {
    "name": "ipython",
    "version": 3
   },
   "file_extension": ".py",
   "mimetype": "text/x-python",
   "name": "python",
   "nbconvert_exporter": "python",
   "pygments_lexer": "ipython3",
   "version": "3.9.13"
  }
 },
 "nbformat": 4,
 "nbformat_minor": 5
}
