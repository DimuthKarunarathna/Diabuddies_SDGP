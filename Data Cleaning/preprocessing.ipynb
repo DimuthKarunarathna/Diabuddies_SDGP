{
 "cells": [
  {
   "cell_type": "code",
   "execution_count": 5,
   "metadata": {},
   "outputs": [],
   "source": [
    "import pandas as pd"
   ]
  },
  {
   "cell_type": "code",
   "execution_count": 4,
   "metadata": {},
   "outputs": [],
   "source": [
    "df = pd.read_excel('nutritionixAPI/withNutrients.xlsx')"
   ]
  },
  {
   "cell_type": "code",
   "execution_count": 7,
   "metadata": {},
   "outputs": [],
   "source": [
    "df['CGM_Data'] = df['CGM (mg / dl)'].fillna(df['CGM '])"
   ]
  },
  {
   "cell_type": "code",
   "execution_count": 8,
   "metadata": {},
   "outputs": [],
   "source": [
    "df.drop(['CGM (mg / dl)', 'CGM '], axis=1, inplace=True)"
   ]
  },
  {
   "cell_type": "code",
   "execution_count": 9,
   "metadata": {},
   "outputs": [],
   "source": [
    "df.to_excel('AllInOneCustom.xlsx', index=False)"
   ]
  },
  {
   "cell_type": "code",
   "execution_count": 5,
   "metadata": {},
   "outputs": [],
   "source": [
    "df[\"Date\"] = pd.to_datetime(df[\"Date\"])"
   ]
  },
  {
   "cell_type": "code",
   "execution_count": 3,
   "metadata": {},
   "outputs": [],
   "source": [
    "df['Date'] = pd.to_datetime(df['Date'], format='%Y-%m-%d %I:%M:%S %p')\n",
    "df['Year'] = df['Date'].dt.year\n",
    "df['Month'] = df['Date'].dt.month\n",
    "df['Day'] = df['Date'].dt.day\n",
    "df['Hour'] = df['Date'].dt.hour\n",
    "df['Minute'] = df['Date'].dt.minute\n",
    "df['Second'] = df['Date'].dt.second\n",
    "df['AM/PM'] = df['Date'].dt.strftime('%p')"
   ]
  },
  {
   "cell_type": "code",
   "execution_count": 4,
   "metadata": {},
   "outputs": [],
   "source": [
    "df.to_excel('AllInOneCustom.xlsx', index=False)"
   ]
  },
  {
   "cell_type": "code",
   "execution_count": 32,
   "metadata": {},
   "outputs": [],
   "source": [
    "import numpy as np"
   ]
  },
  {
   "attachments": {},
   "cell_type": "markdown",
   "metadata": {},
   "source": [
    "### Create avgCGM Column and Calculate\n",
    "\n",
    "- avgCGM is the average cgm values after the glucose level fluctuation\n",
    "- After food intake CGM value fluctuation peaks between 1-2 hours\n",
    "- Therefore the avgCGM values between 1-2 hours after the meal is taken"
   ]
  },
  {
   "cell_type": "code",
   "execution_count": 25,
   "metadata": {},
   "outputs": [],
   "source": [
    "df['avgCGM'] = ''"
   ]
  },
  {
   "cell_type": "code",
   "execution_count": 26,
   "metadata": {},
   "outputs": [],
   "source": [
    "# iterate each row\n",
    "for index, row in df.iterrows():\n",
    "    dietary_intake = row['Dietary intake']\n",
    "    # if user input food\n",
    "    if pd.isnull(dietary_intake):\n",
    "        df.at[index, 'avgCGM'] = ''\n",
    "    else:\n",
    "        # Initialize\n",
    "        avgCGM = np.nan\n",
    "        # if dataframe is not over\n",
    "        if index + 8 < len(df):\n",
    "            avgCGM = df.iloc[index+4:index+8]['CGM_Data'].astype(float).mean()\n",
    "\n",
    "        # store at index(to predict)\n",
    "        df.at[index, 'avgCGM'] = avgCGM\n",
    "\n"
   ]
  },
  {
   "cell_type": "code",
   "execution_count": 27,
   "metadata": {},
   "outputs": [],
   "source": [
    "df.to_excel('AllInOneCustomAvg.xlsx', index=False)"
   ]
  },
  {
   "attachments": {},
   "cell_type": "markdown",
   "metadata": {},
   "source": [
    "### Remove all the rows that don't have the avgCGM value and save to file"
   ]
  },
  {
   "cell_type": "code",
   "execution_count": 4,
   "metadata": {},
   "outputs": [],
   "source": [
    "\n",
    "df.dropna(subset=['avgCGM'], inplace=True)"
   ]
  },
  {
   "cell_type": "code",
   "execution_count": 5,
   "metadata": {},
   "outputs": [],
   "source": [
    "df.to_excel('AllInOneCustomAvg.xlsx', index=False)"
   ]
  },
  {
   "attachments": {},
   "cell_type": "markdown",
   "metadata": {},
   "source": [
    "### Remove rows where avgCGM is taken from the next person"
   ]
  },
  {
   "cell_type": "code",
   "execution_count": 3,
   "metadata": {},
   "outputs": [],
   "source": [
    "for index, row in df.iterrows():\n",
    "    dietary_intake = row['Dietary intake']\n",
    "    # if user input food\n",
    "    if pd.notnull(dietary_intake):\n",
    "        if index + 4 < len(df):\n",
    "            #get the file names from index to index+8\n",
    "            file_names = df.iloc[index:index+8]['File Name']\n",
    "            #checks if file names are unique\n",
    "            if file_names.nunique() == 1:\n",
    "                pass\n",
    "            else:\n",
    "                df.drop(index,inplace=True)\n",
    "        \n",
    "df.to_excel('AllInOneCustomAvg.xlsx', index=False)"
   ]
  },
  {
   "attachments": {},
   "cell_type": "markdown",
   "metadata": {},
   "source": [
    "### Removing rows where Dietary intake has the value \"data not available\""
   ]
  },
  {
   "cell_type": "code",
   "execution_count": 6,
   "metadata": {},
   "outputs": [],
   "source": [
    "indices_to_remove = []\n",
    "\n",
    "for index, row in df.iterrows():\n",
    "    if row['Dietary intake'] == 'data not available':\n",
    "        indices_to_remove.append(index)\n",
    "\n",
    "df = df.drop(indices_to_remove)"
   ]
  },
  {
   "cell_type": "code",
   "execution_count": 5,
   "metadata": {},
   "outputs": [],
   "source": [
    "indices_to_remove = []\n",
    "\n",
    "for index, row in df.iterrows():\n",
    "    if row['Dietary intake'] == 'Data not available':\n",
    "        indices_to_remove.append(index)\n",
    "\n",
    "df = df.drop(indices_to_remove)"
   ]
  },
  {
   "cell_type": "code",
   "execution_count": 6,
   "metadata": {},
   "outputs": [],
   "source": [
    "df.to_excel('nutritionixAPI/withNutrients.xlsx', index=False)"
   ]
  },
  {
   "attachments": {},
   "cell_type": "markdown",
   "metadata": {},
   "source": [
    "# Converting a json array with Foods and their GI values into a excel file"
   ]
  },
  {
   "cell_type": "code",
   "execution_count": 15,
   "metadata": {},
   "outputs": [],
   "source": [
    "# import json\n",
    "# from openpyxl import Workbook"
   ]
  },
  {
   "cell_type": "code",
   "execution_count": 19,
   "metadata": {},
   "outputs": [
    {
     "ename": "KeyError",
     "evalue": "0",
     "output_type": "error",
     "traceback": [
      "\u001b[0;31m---------------------------------------------------------------------------\u001b[0m",
      "\u001b[0;31mKeyError\u001b[0m                                  Traceback (most recent call last)",
      "Cell \u001b[0;32mIn[19], line 6\u001b[0m\n\u001b[1;32m      4\u001b[0m \u001b[39mfor\u001b[39;00m i \u001b[39min\u001b[39;00m \u001b[39mrange\u001b[39m(\u001b[39m5\u001b[39m):\n\u001b[1;32m      5\u001b[0m     \u001b[39mif\u001b[39;00m \u001b[39mlen\u001b[39m(data) \u001b[39m>\u001b[39m i:\n\u001b[0;32m----> 6\u001b[0m         \u001b[39mprint\u001b[39m(data[i])\n",
      "\u001b[0;31mKeyError\u001b[0m: 0"
     ]
    }
   ],
   "source": [
    "\n",
    "# # Open the JSON file and load the data\n",
    "# with open('data.json', 'r') as file:\n",
    "#     data = json.load(file)\n",
    "#     for i in range(5):\n",
    "#         if len(data) > i:\n",
    "#             print(data[i])"
   ]
  },
  {
   "attachments": {},
   "cell_type": "markdown",
   "metadata": {},
   "source": [
    "## Add the User details to withNutrients.xlsx"
   ]
  },
  {
   "cell_type": "code",
   "execution_count": 6,
   "metadata": {},
   "outputs": [],
   "source": [
    "user_summary = pd.read_excel('nutritionixAPI/userSummary.xlsx')\n",
    "with_nutrients = pd.read_excel('nutritionixAPI/withNutrients.xlsx')"
   ]
  },
  {
   "cell_type": "code",
   "execution_count": 7,
   "metadata": {},
   "outputs": [],
   "source": [
    "for index, row in user_summary.iterrows():\n",
    "    if row['Patient Number'] in with_nutrients['File Name'].tolist():\n",
    "        matches = with_nutrients['File Name'] == row['Patient Number']\n",
    "\n",
    "        with_nutrients.loc[matches, 'Gender (Female=1, Male=2)'] = row['Gender (Female=1, Male=2)']\n",
    "        with_nutrients.loc[matches, 'Age (years)'] = row['Age (years)']\n",
    "        with_nutrients.loc[matches, 'Height (m)'] = row['Height (m)']\n",
    "        with_nutrients.loc[matches, 'Weight (kg)'] = row['Weight (kg)']\n",
    "        with_nutrients.loc[matches, 'BMI (kg/m2)'] = row['BMI (kg/m2)']\n",
    "        with_nutrients.loc[matches, 'Smoking History (pack year)'] = row['Smoking History (pack year)']\n",
    "        with_nutrients.loc[matches, 'Alcohol Drinking History (drinker/non-drinker)'] = row['Alcohol Drinking History (drinker/non-drinker)']\n",
    "        with_nutrients.loc[matches, 'Type of Diabetes'] = row['Type of Diabetes']\n",
    "        with_nutrients.loc[matches, 'Duration of diabetes (years)'] = row['Duration of diabetes (years)']\n"
   ]
  },
  {
   "cell_type": "code",
   "execution_count": 8,
   "metadata": {},
   "outputs": [],
   "source": [
    "with_nutrients.to_excel('nutritionixAPI/withNutrients.xlsx', index=False)"
   ]
  }
 ],
 "metadata": {
  "kernelspec": {
   "display_name": "Python 3 (ipykernel)",
   "language": "python",
   "name": "python3"
  },
  "language_info": {
   "codemirror_mode": {
    "name": "ipython",
    "version": 3
   },
   "file_extension": ".py",
   "mimetype": "text/x-python",
   "name": "python",
   "nbconvert_exporter": "python",
   "pygments_lexer": "ipython3",
   "version": "3.10.10"
  },
  "vscode": {
   "interpreter": {
    "hash": "aee8b7b246df8f9039afb4144a1f6fd8d2ca17a180786b69acc140d282b71a49"
   }
  }
 },
 "nbformat": 4,
 "nbformat_minor": 2
}
