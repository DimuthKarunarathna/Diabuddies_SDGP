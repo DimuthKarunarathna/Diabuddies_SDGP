{
 "cells": [
  {
   "cell_type": "code",
   "execution_count": 1,
   "metadata": {},
   "outputs": [],
   "source": [
    "import requests\n",
    "import json\n",
    "\n",
    "\n",
    "# Enter your APP_ID and APP_KEY here\n",
    "APP_ID = '43eab835'\n",
    "APP_KEY = '58d9804a26d558b53e37a6ace39caefe'\n",
    "\n",
    "\n",
    "# food = foods[i]\n",
    "# weight = weights[i]\n",
    "\n",
    "url = 'https://api.edamam.com/api/nutrition-data'\n",
    "\n",
    "params = {\n",
    "    'app_id': APP_ID,\n",
    "    'app_key': APP_KEY,\n",
    "    'ingr': \"\"\"Milk 200 ml\n",
    "Egg 40 g\n",
    "Taro 30 g\n",
    "Toast 50 g\n",
    "Sesame and walnut 20 g\"\"\"\n",
    "}\n",
    "\n",
    "response = requests.get(url=url, params=params)\n",
    "\n",
    "data = response.json()\n",
    "with open('test_1.json', 'w') as f:\n",
    "    json.dump(data, f)"
   ]
  },
  {
   "cell_type": "code",
   "execution_count": 3,
   "metadata": {},
   "outputs": [
    {
     "ename": "JSONDecodeError",
     "evalue": "Expecting value: line 1 column 1 (char 0)",
     "output_type": "error",
     "traceback": [
      "\u001b[1;31m---------------------------------------------------------------------------\u001b[0m",
      "\u001b[1;31mJSONDecodeError\u001b[0m                           Traceback (most recent call last)",
      "\u001b[1;32mD:\\Anaconda\\lib\\site-packages\\requests\\models.py\u001b[0m in \u001b[0;36mjson\u001b[1;34m(self, **kwargs)\u001b[0m\n\u001b[0;32m    970\u001b[0m         \u001b[1;32mtry\u001b[0m\u001b[1;33m:\u001b[0m\u001b[1;33m\u001b[0m\u001b[1;33m\u001b[0m\u001b[0m\n\u001b[1;32m--> 971\u001b[1;33m             \u001b[1;32mreturn\u001b[0m \u001b[0mcomplexjson\u001b[0m\u001b[1;33m.\u001b[0m\u001b[0mloads\u001b[0m\u001b[1;33m(\u001b[0m\u001b[0mself\u001b[0m\u001b[1;33m.\u001b[0m\u001b[0mtext\u001b[0m\u001b[1;33m,\u001b[0m \u001b[1;33m**\u001b[0m\u001b[0mkwargs\u001b[0m\u001b[1;33m)\u001b[0m\u001b[1;33m\u001b[0m\u001b[1;33m\u001b[0m\u001b[0m\n\u001b[0m\u001b[0;32m    972\u001b[0m         \u001b[1;32mexcept\u001b[0m \u001b[0mJSONDecodeError\u001b[0m \u001b[1;32mas\u001b[0m \u001b[0me\u001b[0m\u001b[1;33m:\u001b[0m\u001b[1;33m\u001b[0m\u001b[1;33m\u001b[0m\u001b[0m\n",
      "\u001b[1;32mD:\\Anaconda\\lib\\json\\__init__.py\u001b[0m in \u001b[0;36mloads\u001b[1;34m(s, cls, object_hook, parse_float, parse_int, parse_constant, object_pairs_hook, **kw)\u001b[0m\n\u001b[0;32m    345\u001b[0m             parse_constant is None and object_pairs_hook is None and not kw):\n\u001b[1;32m--> 346\u001b[1;33m         \u001b[1;32mreturn\u001b[0m \u001b[0m_default_decoder\u001b[0m\u001b[1;33m.\u001b[0m\u001b[0mdecode\u001b[0m\u001b[1;33m(\u001b[0m\u001b[0ms\u001b[0m\u001b[1;33m)\u001b[0m\u001b[1;33m\u001b[0m\u001b[1;33m\u001b[0m\u001b[0m\n\u001b[0m\u001b[0;32m    347\u001b[0m     \u001b[1;32mif\u001b[0m \u001b[0mcls\u001b[0m \u001b[1;32mis\u001b[0m \u001b[1;32mNone\u001b[0m\u001b[1;33m:\u001b[0m\u001b[1;33m\u001b[0m\u001b[1;33m\u001b[0m\u001b[0m\n",
      "\u001b[1;32mD:\\Anaconda\\lib\\json\\decoder.py\u001b[0m in \u001b[0;36mdecode\u001b[1;34m(self, s, _w)\u001b[0m\n\u001b[0;32m    336\u001b[0m         \"\"\"\n\u001b[1;32m--> 337\u001b[1;33m         \u001b[0mobj\u001b[0m\u001b[1;33m,\u001b[0m \u001b[0mend\u001b[0m \u001b[1;33m=\u001b[0m \u001b[0mself\u001b[0m\u001b[1;33m.\u001b[0m\u001b[0mraw_decode\u001b[0m\u001b[1;33m(\u001b[0m\u001b[0ms\u001b[0m\u001b[1;33m,\u001b[0m \u001b[0midx\u001b[0m\u001b[1;33m=\u001b[0m\u001b[0m_w\u001b[0m\u001b[1;33m(\u001b[0m\u001b[0ms\u001b[0m\u001b[1;33m,\u001b[0m \u001b[1;36m0\u001b[0m\u001b[1;33m)\u001b[0m\u001b[1;33m.\u001b[0m\u001b[0mend\u001b[0m\u001b[1;33m(\u001b[0m\u001b[1;33m)\u001b[0m\u001b[1;33m)\u001b[0m\u001b[1;33m\u001b[0m\u001b[1;33m\u001b[0m\u001b[0m\n\u001b[0m\u001b[0;32m    338\u001b[0m         \u001b[0mend\u001b[0m \u001b[1;33m=\u001b[0m \u001b[0m_w\u001b[0m\u001b[1;33m(\u001b[0m\u001b[0ms\u001b[0m\u001b[1;33m,\u001b[0m \u001b[0mend\u001b[0m\u001b[1;33m)\u001b[0m\u001b[1;33m.\u001b[0m\u001b[0mend\u001b[0m\u001b[1;33m(\u001b[0m\u001b[1;33m)\u001b[0m\u001b[1;33m\u001b[0m\u001b[1;33m\u001b[0m\u001b[0m\n",
      "\u001b[1;32mD:\\Anaconda\\lib\\json\\decoder.py\u001b[0m in \u001b[0;36mraw_decode\u001b[1;34m(self, s, idx)\u001b[0m\n\u001b[0;32m    354\u001b[0m         \u001b[1;32mexcept\u001b[0m \u001b[0mStopIteration\u001b[0m \u001b[1;32mas\u001b[0m \u001b[0merr\u001b[0m\u001b[1;33m:\u001b[0m\u001b[1;33m\u001b[0m\u001b[1;33m\u001b[0m\u001b[0m\n\u001b[1;32m--> 355\u001b[1;33m             \u001b[1;32mraise\u001b[0m \u001b[0mJSONDecodeError\u001b[0m\u001b[1;33m(\u001b[0m\u001b[1;34m\"Expecting value\"\u001b[0m\u001b[1;33m,\u001b[0m \u001b[0ms\u001b[0m\u001b[1;33m,\u001b[0m \u001b[0merr\u001b[0m\u001b[1;33m.\u001b[0m\u001b[0mvalue\u001b[0m\u001b[1;33m)\u001b[0m \u001b[1;32mfrom\u001b[0m \u001b[1;32mNone\u001b[0m\u001b[1;33m\u001b[0m\u001b[1;33m\u001b[0m\u001b[0m\n\u001b[0m\u001b[0;32m    356\u001b[0m         \u001b[1;32mreturn\u001b[0m \u001b[0mobj\u001b[0m\u001b[1;33m,\u001b[0m \u001b[0mend\u001b[0m\u001b[1;33m\u001b[0m\u001b[1;33m\u001b[0m\u001b[0m\n",
      "\u001b[1;31mJSONDecodeError\u001b[0m: Expecting value: line 1 column 1 (char 0)",
      "\nDuring handling of the above exception, another exception occurred:\n",
      "\u001b[1;31mJSONDecodeError\u001b[0m                           Traceback (most recent call last)",
      "\u001b[1;32m~\\AppData\\Local\\Temp\\ipykernel_19528\\2904513799.py\u001b[0m in \u001b[0;36m<module>\u001b[1;34m\u001b[0m\n\u001b[0;32m     22\u001b[0m \u001b[1;33m\u001b[0m\u001b[0m\n\u001b[0;32m     23\u001b[0m \u001b[1;31m# Convert JSON to Python dictionary and store it in data\u001b[0m\u001b[1;33m\u001b[0m\u001b[1;33m\u001b[0m\u001b[0m\n\u001b[1;32m---> 24\u001b[1;33m \u001b[0mdata\u001b[0m \u001b[1;33m=\u001b[0m \u001b[0mresponse\u001b[0m\u001b[1;33m.\u001b[0m\u001b[0mjson\u001b[0m\u001b[1;33m(\u001b[0m\u001b[1;33m)\u001b[0m\u001b[1;33m\u001b[0m\u001b[1;33m\u001b[0m\u001b[0m\n\u001b[0m\u001b[0;32m     25\u001b[0m \u001b[1;33m\u001b[0m\u001b[0m\n\u001b[0;32m     26\u001b[0m \u001b[1;31m# Access the nutrition facts from the dictionary\u001b[0m\u001b[1;33m\u001b[0m\u001b[1;33m\u001b[0m\u001b[0m\n",
      "\u001b[1;32mD:\\Anaconda\\lib\\site-packages\\requests\\models.py\u001b[0m in \u001b[0;36mjson\u001b[1;34m(self, **kwargs)\u001b[0m\n\u001b[0;32m    973\u001b[0m             \u001b[1;31m# Catch JSON-related errors and raise as requests.JSONDecodeError\u001b[0m\u001b[1;33m\u001b[0m\u001b[1;33m\u001b[0m\u001b[0m\n\u001b[0;32m    974\u001b[0m             \u001b[1;31m# This aliases json.JSONDecodeError and simplejson.JSONDecodeError\u001b[0m\u001b[1;33m\u001b[0m\u001b[1;33m\u001b[0m\u001b[0m\n\u001b[1;32m--> 975\u001b[1;33m             \u001b[1;32mraise\u001b[0m \u001b[0mRequestsJSONDecodeError\u001b[0m\u001b[1;33m(\u001b[0m\u001b[0me\u001b[0m\u001b[1;33m.\u001b[0m\u001b[0mmsg\u001b[0m\u001b[1;33m,\u001b[0m \u001b[0me\u001b[0m\u001b[1;33m.\u001b[0m\u001b[0mdoc\u001b[0m\u001b[1;33m,\u001b[0m \u001b[0me\u001b[0m\u001b[1;33m.\u001b[0m\u001b[0mpos\u001b[0m\u001b[1;33m)\u001b[0m\u001b[1;33m\u001b[0m\u001b[1;33m\u001b[0m\u001b[0m\n\u001b[0m\u001b[0;32m    976\u001b[0m \u001b[1;33m\u001b[0m\u001b[0m\n\u001b[0;32m    977\u001b[0m     \u001b[1;33m@\u001b[0m\u001b[0mproperty\u001b[0m\u001b[1;33m\u001b[0m\u001b[1;33m\u001b[0m\u001b[0m\n",
      "\u001b[1;31mJSONDecodeError\u001b[0m: Expecting value: line 1 column 1 (char 0)"
     ]
    }
   ],
   "source": [
    "import requests\n",
    "import json\n",
    "\n",
    "# Define your API key and app ID\n",
    "app_id = \"43eab835\"\n",
    "app_key = \"58d9804a26d558b53e37a6ace39caefe\"\n",
    "\n",
    "# Define your meal description\n",
    "meal = \"Milk 200 ml, Egg 40 g, Taro 30 g, Toast 50 g, Sesame and walnut 20 g\"\n",
    "\n",
    "# Construct the URL for the API request\n",
    "url = f\"https://api.edamam.com/api/nutrition-details?app_id={app_id}&app_key={app_key}\"\n",
    "\n",
    "# Construct the headers for the API request\n",
    "headers = {\"Content-Type\": \"application/json\"}\n",
    "\n",
    "# Construct the data for the API request\n",
    "data = {\"title\": meal}\n",
    "\n",
    "# Send a POST request to the API and store the response\n",
    "response = requests.post(url, headers=headers, json=data)\n",
    "\n",
    "# Convert JSON to Python dictionary and store it in data\n",
    "data = response.json()\n",
    "\n",
    "# Access the nutrition facts from the dictionary\n",
    "calories = data[\"calories\"]\n",
    "carbs = data[\"totalNutrients\"][\"CHOCDF\"][\"quantity\"]\n",
    "protein = data[\"totalNutrients\"][\"PROCNT\"][\"quantity\"]\n",
    "fiber = data[\"totalNutrients\"][\"FIBTG\"][\"quantity\"]\n",
    "\n",
    "# Print the results\n",
    "print(f\"Calories: {calories} kcal\")\n",
    "print(f\"Carbohydrates: {carbs} g\")\n",
    "print(f\"Protein: {protein} g\")\n",
    "print(f\"Fiber: {fiber} g\")"
   ]
  },
  {
   "cell_type": "code",
   "execution_count": 5,
   "metadata": {},
   "outputs": [
    {
     "name": "stdout",
     "output_type": "stream",
     "text": [
      "Carbohydrates: 0.96 g\n",
      "Protein: 0.63 g\n",
      "Fiber: 0.0 g\n"
     ]
    }
   ],
   "source": [
    "import requests\n",
    "\n",
    "app_id = \"43eab835\"\n",
    "app_key = \"58d9804a26d558b53e37a6ace39caefe\"\n",
    "meal = \"\"\"Milk 200 ml\n",
    "Egg 40 g\n",
    "Taro 50 g\n",
    "Toast 60 g\n",
    "Sesame and walnut 20 g\"\"\"\n",
    "\n",
    "url = \"https://api.edamam.com/api/nutrition-data\"\n",
    "querystring = {\"app_id\": app_id, \"app_key\": app_key, \"ingr\": meal}\n",
    "response = requests.get(url, params=querystring)\n",
    "data = response.json()\n",
    "\n",
    "carbs = data[\"totalNutrients\"][\"CHOCDF\"][\"quantity\"]\n",
    "fiber = data[\"totalNutrients\"][\"FIBTG\"][\"quantity\"]\n",
    "protein = data[\"totalNutrients\"][\"PROCNT\"][\"quantity\"]\n",
    "\n",
    "print(f\"Carbohydrates: {carbs} g\")\n",
    "print(f\"Protein: {protein} g\")\n",
    "print(f\"Fiber: {fiber} g\")"
   ]
  },
  {
   "cell_type": "code",
   "execution_count": 11,
   "metadata": {},
   "outputs": [
    {
     "name": "stdout",
     "output_type": "stream",
     "text": [
      "Collecting nutritionix\n",
      "  Downloading nutritionix-0.2.tar.gz (4.3 kB)\n",
      "  Preparing metadata (setup.py): started\n",
      "  Preparing metadata (setup.py): finished with status 'done'\n",
      "Requirement already satisfied: requests in d:\\anaconda\\lib\\site-packages (from nutritionix) (2.28.1)\n",
      "Requirement already satisfied: urllib3<1.27,>=1.21.1 in d:\\anaconda\\lib\\site-packages (from requests->nutritionix) (1.26.11)\n",
      "Requirement already satisfied: idna<4,>=2.5 in d:\\anaconda\\lib\\site-packages (from requests->nutritionix) (3.3)\n",
      "Requirement already satisfied: charset-normalizer<3,>=2 in d:\\anaconda\\lib\\site-packages (from requests->nutritionix) (2.0.4)\n",
      "Requirement already satisfied: certifi>=2017.4.17 in d:\\anaconda\\lib\\site-packages (from requests->nutritionix) (2022.9.14)\n",
      "Building wheels for collected packages: nutritionix\n",
      "  Building wheel for nutritionix (setup.py): started\n",
      "  Building wheel for nutritionix (setup.py): finished with status 'done'\n",
      "  Created wheel for nutritionix: filename=nutritionix-0.2-py3-none-any.whl size=3055 sha256=5c0d69ef1b37aed628c9087c4bfa2ef19627a26994ab55c09bde95572333975a\n",
      "  Stored in directory: c:\\users\\thushara piyasekara\\appdata\\local\\pip\\cache\\wheels\\15\\36\\55\\300295e6dc666c6f1b0c7e42265e97198d6ffe506983e8e0c0\n",
      "Successfully built nutritionix\n",
      "Installing collected packages: nutritionix\n",
      "Successfully installed nutritionix-0.2\n",
      "Note: you may need to restart the kernel to use updated packages.\n"
     ]
    }
   ],
   "source": [
    "pip install nutritionix"
   ]
  },
  {
   "cell_type": "code",
   "execution_count": 26,
   "metadata": {},
   "outputs": [],
   "source": [
    "import requests\n",
    "from nutritionix import Nutritionix\n",
    "\n",
    "app_id = \"8d10d4bf\"\n",
    "api_key = \"2884bb26f6be3bfedeef8f0ae5e769ee\"\n",
    "meal = \"Milk 200 ml\"\n",
    "\n",
    "nutritionix = Nutritionix(app_id=app_id, api_key=api_key)\n",
    "response = nutritionix.natural(meal)\n",
    "data = response.json()\n",
    "\n",
    "# carbs = data[\"total_carbohydrate\"]\n",
    "# fiber = data[\"dietary_fiber\"]\n",
    "# protein = data[\"protein\"]\n",
    "\n",
    "# print(f\"The meal of {meal} has {carbs} grams of carbohydrates, {fiber} grams of fiber and {protein} grams of protein.\")"
   ]
  },
  {
   "cell_type": "code",
   "execution_count": 32,
   "metadata": {},
   "outputs": [],
   "source": [
    "data = response.json()\n",
    "with open('ix_1.json', 'w') as f:\n",
    "    json.dump(data, f)"
   ]
  },
  {
   "cell_type": "code",
   "execution_count": 30,
   "metadata": {},
   "outputs": [],
   "source": [
    "APP_ID = \"8d10d4bf\"\n",
    "API_KEY = \"2884bb26f6be3bfedeef8f0ae5e769ee\"\n",
    "\n",
    "# Enter the food items and quantities as a list of dictionaries\n",
    "# Each dictionary should contain the \"food_name\" and \"quantity\" keys\n",
    "foods = [\n",
    "    {\"food_name\": \"chicken breast\", \"quantity\": \"4 oz\"},\n",
    "    {\"food_name\": \"brown rice\", \"quantity\": \"1 cup\"},\n",
    "    {\"food_name\": \"broccoli\", \"quantity\": \"1 cup\"},\n",
    "]\n",
    "\n",
    "# Send a GET request to the Nutritionix API\n",
    "response = requests.get(\n",
    "    \"https://api.nutritionix.com/v1_1/nutrition\",\n",
    "    params={\n",
    "        \"app_id\": APP_ID,\n",
    "        \"app_key\": API_KEY,\n",
    "        \"fields\": \"nf_total_carbohydrate,nf_dietary_fiber,nf_protein\",\n",
    "        \"query\": \",\".join([f['food_name'] + \" \" + f['quantity'] for f in foods])\n",
    "    }\n",
    ")\n",
    "\n",
    "# Parse the response JSON\n",
    "data = json.loads(response.text)\n"
   ]
  },
  {
   "cell_type": "code",
   "execution_count": 38,
   "metadata": {},
   "outputs": [],
   "source": [
    "import requests\n",
    "\n",
    "# Enter a description of food and quantities\n",
    "breakfast = {\n",
    "    '1 banana': '1',\n",
    "    '1 cup of oatmeal': '1',\n",
    "    '1 tablespoon of honey': '1',\n",
    "    '1 tablespoon of peanut butter': '1',\n",
    "    '1 cup of blueberries': '1',\n",
    "    '1 cup of orange juice': '1'\n",
    "}\n",
    "\n",
    "# Build the query string\n",
    "query = \"\"\"Milk 200 ml\n",
    "Egg 40 g\n",
    "Taro 50 g\n",
    "Toast 60 g\n",
    "Sesame and walnut 20 g\"\"\"\n",
    "# for food, quantity in breakfast.items():\n",
    "#     query += food + \" \" + quantity + \", \"\n",
    "# query = query[:-2] # remove the extra comma and space\n",
    "\n",
    "# Make the request\n",
    "url = 'https://trackapi.nutritionix.com/v2/natural/nutrients'\n",
    "headers = {\n",
    "    'x-app-id': '8d10d4bf',\n",
    "    'x-app-key': '2884bb26f6be3bfedeef8f0ae5e769ee',\n",
    "    'x-remote-user-id': '0'\n",
    "}\n",
    "data = {'query': query}\n",
    "\n",
    "response = requests.post(url, headers=headers, data=data)\n",
    "data = response.json()\n",
    "\n",
    "with open('davinci_2.json', 'w') as f:\n",
    "    json.dump(data, f)"
   ]
  }
 ],
 "metadata": {
  "interpreter": {
   "hash": "07efdcd4b820c98a756949507a4d29d7862823915ec7477944641bea022f4f62"
  },
  "kernelspec": {
   "display_name": "Python 3.9.13 ('base')",
   "language": "python",
   "name": "python3"
  },
  "language_info": {
   "codemirror_mode": {
    "name": "ipython",
    "version": 3
   },
   "file_extension": ".py",
   "mimetype": "text/x-python",
   "name": "python",
   "nbconvert_exporter": "python",
   "pygments_lexer": "ipython3",
   "version": "3.9.13"
  },
  "orig_nbformat": 4
 },
 "nbformat": 4,
 "nbformat_minor": 2
}
