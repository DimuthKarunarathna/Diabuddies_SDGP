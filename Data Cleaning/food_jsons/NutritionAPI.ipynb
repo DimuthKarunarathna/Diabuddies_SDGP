{
 "cells": [
  {
   "cell_type": "code",
   "execution_count": 30,
   "metadata": {},
   "outputs": [],
   "source": [
    "import pandas as pd\n",
    "\n",
    "excel_file = pd.read_excel('dietOnlyMergedCGM.xlsx')\n",
    "column_array = excel_file['Dietary intake'].values"
   ]
  },
  {
   "cell_type": "code",
   "execution_count": 31,
   "metadata": {},
   "outputs": [
    {
     "name": "stdout",
     "output_type": "stream",
     "text": [
      "Noodles 50 g\n",
      "Lettuce, shredded asparagus and fried vegetable soup 200 ml\n",
      "Tofu skin knot 60 g\n",
      "Pork rib 40 g\n",
      "['Noodles', 'Lettuce, shredded asparagus and fried vegetable soup', 'Tofu skin knot', 'Pork rib']\n",
      "['50 g', '200 ml', '60 g', '40 g']\n"
     ]
    }
   ],
   "source": [
    "import re\n",
    "\n",
    "food_and_weights = column_array[3]\n",
    "print(food_and_weights)\n",
    "\n",
    "food_pattern = re.compile(r'(\\D+)')  # matches any non-digit character\n",
    "weight_pattern = re.compile(r'(\\d+)\\s*(\\w+)')  # matches one or more digits followed by any word character\n",
    "\n",
    "foods = []\n",
    "weights = []\n",
    "\n",
    "for line in food_and_weights.split('\\n'):\n",
    "    food_match = food_pattern.match(line)\n",
    "    if food_match:\n",
    "        foods.append(food_match.group(1).strip())\n",
    "\n",
    "    weight_match = weight_pattern.search(line)\n",
    "    if weight_match:\n",
    "        weight_value = weight_match.group(1)\n",
    "        weight_unit = weight_match.group(2)\n",
    "        weights.append(f\"{weight_value} {weight_unit}\")\n",
    "\n",
    "print(foods)    # ['Milk', 'Oats', 'Sesame and nut', 'Egg', 'Bread', 'Taro']\n",
    "print(weights)  # ['200 ml', '30 g', '15g', '40 g', '60 g', '40 g']"
   ]
  },
  {
   "cell_type": "code",
   "execution_count": 32,
   "metadata": {},
   "outputs": [],
   "source": [
    "import requests\n",
    "import json\n",
    "\n",
    "\n",
    "def getNutritionsFromAPI(foods,weights):\n",
    "    # Enter your APP_ID and APP_KEY here\n",
    "    APP_ID = '43eab835'\n",
    "    APP_KEY = '58d9804a26d558b53e37a6ace39caefe'\n",
    "\n",
    "    for i in range(len(foods)):\n",
    "        food = foods[i]\n",
    "        weight = weights[i]\n",
    "\n",
    "        url = 'https://api.edamam.com/api/nutrition-data'\n",
    "\n",
    "        params = {\n",
    "            'app_id': APP_ID,\n",
    "            'app_key': APP_KEY,\n",
    "            'ingr': str(weight) + ' ' + food\n",
    "        }\n",
    "\n",
    "        response = requests.get(url=url, params=params)\n",
    "\n",
    "        data = response.json()\n",
    "        with open('food_'+str(food)+'.json', 'w') as f:\n",
    "            json.dump(data, f)"
   ]
  },
  {
   "cell_type": "code",
   "execution_count": 33,
   "metadata": {},
   "outputs": [],
   "source": [
    "import re\n",
    "def getJSONsFromColumn(column):\n",
    "\n",
    "    for j in range(10):\n",
    "        food_and_weights = column[j]\n",
    "        print(food_and_weights)\n",
    "\n",
    "        food_pattern = re.compile(r'(\\D+)')  # matches any non-digit character\n",
    "        weight_pattern = re.compile(r'(\\d+)\\s*(\\w+)')  # matches one or more digits followed by any word character\n",
    "\n",
    "        foods = []\n",
    "        weights = []\n",
    "\n",
    "        for line in food_and_weights.split('\\n'):\n",
    "            food_match = food_pattern.match(line)\n",
    "            if food_match:\n",
    "                foods.append(food_match.group(1).strip())\n",
    "\n",
    "            weight_match = weight_pattern.search(line)\n",
    "            if weight_match:\n",
    "                weight_value = weight_match.group(1)\n",
    "                weight_unit = weight_match.group(2)\n",
    "                weights.append(f\"{weight_value} {weight_unit}\")\n",
    "\n",
    "        print(foods)   \n",
    "        print(weights)  \n",
    "\n",
    "        getNutritionsFromAPI(foods,weights)\n",
    "\n"
   ]
  },
  {
   "cell_type": "code",
   "execution_count": 34,
   "metadata": {},
   "outputs": [
    {
     "name": "stdout",
     "output_type": "stream",
     "text": [
      "2600\n",
      "Bread 30 g\n",
      "['Bread']\n",
      "['30 g']\n",
      "Mushroom and tofu soup 100 ml\n",
      "Shrimps 40 g\n",
      "Roasted halibut 20 g\n",
      "Cabbage 100 g\n",
      "Winter bamboo shoot, water-chestnut and sausage 100 g\n",
      "['Mushroom and tofu soup', 'Shrimps', 'Roasted halibut', 'Cabbage', 'Winter bamboo shoot, water-chestnut and sausage']\n",
      "['100 ml', '40 g', '20 g', '100 g', '100 g']\n",
      "Milk 200 ml\n",
      "Oats 30 g\n",
      "Sesame and nut 15g\n",
      "Egg 40 g\n",
      "Bread 60 g\n",
      "Taro 40 g\n",
      "['Milk', 'Oats', 'Sesame and nut', 'Egg', 'Bread', 'Taro']\n",
      "['200 ml', '30 g', '15 g', '40 g', '60 g', '40 g']\n",
      "Noodles 50 g\n",
      "Lettuce, shredded asparagus and fried vegetable soup 200 ml\n",
      "Tofu skin knot 60 g\n",
      "Pork rib 40 g\n",
      "['Noodles', 'Lettuce, shredded asparagus and fried vegetable soup', 'Tofu skin knot', 'Pork rib']\n",
      "['50 g', '200 ml', '60 g', '40 g']\n",
      "Pork meatball and vermicelli soup 100 ml\n",
      "Shrimp 30 g\n",
      "Vegetable 50 g\n",
      "Pig feet 40 g\n",
      "['Pork meatball and vermicelli soup', 'Shrimp', 'Vegetable', 'Pig feet']\n",
      "['100 ml', '30 g', '50 g', '40 g']\n",
      "Kiwi fruit 140 g\n",
      "['Kiwi fruit']\n",
      "['140 g']\n",
      "Beef soup 200 ml\n",
      "Pan fried dumpling 50 g\n",
      "['Beef soup', 'Pan fried dumpling']\n",
      "['200 ml', '50 g']\n",
      "Noodles soup 250 ml\n",
      "Crab meat 100 g\n",
      "['Noodles soup', 'Crab meat']\n",
      "['250 ml', '100 g']\n",
      "Yogurt 130 g\n",
      "Nut 10 g\n",
      "Blueberry 10 g\n",
      "['Yogurt', 'Nut', 'Blueberry']\n",
      "['130 g', '10 g', '10 g']\n",
      "Beef, oily bean curd and vermicelli soup 250 g\n",
      "Fried celery with dried bean curd 20 g\n",
      "Fried bamboo shoots 20 g\n",
      "Roasted flatfish 30 g\n",
      "Shrimp 30 g\n",
      "['Beef, oily bean curd and vermicelli soup', 'Fried celery with dried bean curd', 'Fried bamboo shoots', 'Roasted flatfish', 'Shrimp']\n",
      "['250 g', '20 g', '20 g', '30 g', '30 g']\n"
     ]
    }
   ],
   "source": [
    "print(len(column_array))\n",
    "getJSONsFromColumn(column_array)"
   ]
  }
 ],
 "metadata": {
  "interpreter": {
   "hash": "07efdcd4b820c98a756949507a4d29d7862823915ec7477944641bea022f4f62"
  },
  "kernelspec": {
   "display_name": "Python 3.9.13 ('base')",
   "language": "python",
   "name": "python3"
  },
  "language_info": {
   "codemirror_mode": {
    "name": "ipython",
    "version": 3
   },
   "file_extension": ".py",
   "mimetype": "text/x-python",
   "name": "python",
   "nbconvert_exporter": "python",
   "pygments_lexer": "ipython3",
   "version": "3.9.13"
  },
  "orig_nbformat": 4
 },
 "nbformat": 4,
 "nbformat_minor": 2
}
