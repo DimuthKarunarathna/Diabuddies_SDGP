{
 "cells": [
  {
   "cell_type": "code",
   "execution_count": 22,
   "metadata": {},
   "outputs": [
    {
     "name": "stdout",
     "output_type": "stream",
     "text": [
      "Cabbage 80 g\n",
      "Cauliflower 60 g\n",
      "Braised big pork meatball  60 g\n",
      "Scrambled egg with tomato 100 g\n",
      "Rice 50 g\n"
     ]
    }
   ],
   "source": [
    "import pandas as pd\n",
    "\n",
    "excel_file = pd.read_excel('dietOnlyMergedCGM.xlsx')\n",
    "column_array = excel_file['Dietary intake'].values\n",
    "\n",
    "food_and_weights = column_array[19]\n",
    "print(food_and_weights)"
   ]
  },
  {
   "cell_type": "code",
   "execution_count": 23,
   "metadata": {},
   "outputs": [
    {
     "name": "stdout",
     "output_type": "stream",
     "text": [
      "28.69\n",
      "313.76\n",
      "4.69\n",
      "14.05\n",
      "19.090000000000003\n"
     ]
    }
   ],
   "source": [
    "import requests\n",
    "import json\n",
    "\n",
    "# Build the query string\n",
    "query = food_and_weights\n",
    "\n",
    "# Make the request\n",
    "url = 'https://trackapi.nutritionix.com/v2/natural/nutrients'\n",
    "headers = {\n",
    "    'x-app-id': '8d10d4bf',\n",
    "    'x-app-key': '2884bb26f6be3bfedeef8f0ae5e769ee',\n",
    "    'x-remote-user-id': '0'\n",
    "}\n",
    "data = {'query': query}\n",
    "\n",
    "response = requests.post(url, headers=headers, data=data)\n",
    "data = response.json()\n",
    "\n",
    "with open('jsonFiles/001.json', 'w') as f:\n",
    "    json.dump(data, f)\n",
    "\n",
    "json_obj = json.loads(json.dumps(data))\n",
    "\n",
    "total_carbohydrates = 0\n",
    "total_calories = 0\n",
    "total_fiber = 0\n",
    "total_fat = 0\n",
    "total_protein = 0\n",
    "\n",
    "for element in json_obj[\"foods\"]:\n",
    "    \n",
    "    total_carbohydrates += element['nf_total_carbohydrate']\n",
    "    total_calories += element['nf_calories']\n",
    "    total_fiber += element['nf_dietary_fiber']\n",
    "    total_fat += element['nf_total_fat']\n",
    "    total_protein += element['nf_protein']\n",
    "\n",
    "print(total_carbohydrates)\n",
    "print(total_calories)\n",
    "print(total_fiber)\n",
    "print(total_fat)\n",
    "print(total_protein)\n"
   ]
  }
 ],
 "metadata": {
  "interpreter": {
   "hash": "07efdcd4b820c98a756949507a4d29d7862823915ec7477944641bea022f4f62"
  },
  "kernelspec": {
   "display_name": "Python 3.9.13 ('base')",
   "language": "python",
   "name": "python3"
  },
  "language_info": {
   "codemirror_mode": {
    "name": "ipython",
    "version": 3
   },
   "file_extension": ".py",
   "mimetype": "text/x-python",
   "name": "python",
   "nbconvert_exporter": "python",
   "pygments_lexer": "ipython3",
   "version": "3.9.13"
  },
  "orig_nbformat": 4
 },
 "nbformat": 4,
 "nbformat_minor": 2
}
